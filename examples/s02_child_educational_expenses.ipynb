{
 "cells": [
  {
   "cell_type": "markdown",
   "id": "0660a791-0e2f-410a-900a-4f0fcf7663ab",
   "metadata": {},
   "source": [
    "# 文部科学省 子供の学習費調査データ分析サンプル\n",
    "\n",
    "このドキュメントでは、文部科学省の子供の学習費調査データを取得・処理・分析する方法を示します。\n",
    "\n",
    "## データソース\n",
    "- 文部科学省 子供の学習費調査\n",
    "- e-Stat 令和５年度 子供の学習費調査\n",
    "- URL: https://www.e-stat.go.jp/stat-search/files?page=1&layout=datalist&toukei=00400201&tstat=000001012023&cycle=0&tclass1=000001224200&tclass2=000001224201&tclass3=000001224327&tclass4val=0\n",
    "\n",
    "## 1. ライブラリのインポート"
   ]
  },
  {
   "cell_type": "code",
   "execution_count": 2,
   "id": "7e1bffe2-6581-458b-a3e7-4563d05fb701",
   "metadata": {},
   "outputs": [],
   "source": [
    "import sys\n",
    "import os\n",
    "\n",
    "# 必要なライブラリのインポート\n",
    "import pandas as pd\n",
    "import numpy as np\n",
    "\n",
    "# 表示設定\n",
    "pd.set_option('display.max_columns', None)\n",
    "pd.set_option('display.width', None)\n",
    "pd.set_option('display.max_colwidth', 50)"
   ]
  },
  {
   "cell_type": "code",
   "execution_count": 5,
   "id": "ef20cb54-8581-43f8-b975-6fe650e29c07",
   "metadata": {},
   "outputs": [],
   "source": [
    "# パッケージのパスを追加（exampleフォルダから一つ上の階層のfpy_datareaderを参照）\n",
    "sys.path.append(os.path.join(os.path.dirname(os.getcwd()), 'fpy_datareader'))"
   ]
  },
  {
   "cell_type": "markdown",
   "id": "7224a017-9088-4ced-8f32-956e58258555",
   "metadata": {},
   "source": [
    "## 2. child_educational_expenses モジュールのインポート"
   ]
  },
  {
   "cell_type": "code",
   "execution_count": 6,
   "id": "41bcb7f2-6f6e-461f-8c77-014dbb9f383b",
   "metadata": {},
   "outputs": [],
   "source": [
    "# 学習費データ処理モジュールのインポート\n",
    "from child_educational_expenses import (\n",
    "    get_processed_tuition_data,\n",
    "    create_tuition_pivot_table,\n",
    "    load_tuition_education_data,\n",
    "    load_tuition_mapping,\n",
    "    process_tuition_mapping\n",
    ")"
   ]
  },
  {
   "cell_type": "markdown",
   "id": "04ac5035-29b3-43ea-8d3c-27fb1305fd87",
   "metadata": {},
   "source": [
    "## 3. 基本的なデータ取得と確認\n",
    "\n",
    "### 3.1 カテゴリマッピングの確認"
   ]
  },
  {
   "cell_type": "code",
   "execution_count": null,
   "id": "46402ecb-ac3e-4388-ba08-93f0b95a932a",
   "metadata": {},
   "outputs": [],
   "source": [
    "# カテゴリマッピングテーブルの読み込みと確認\n",
    "print(\"=== カテゴリマッピングテーブルの読み込み ===\")\n",
    "raw_mapping = load_tuition_mapping()\n",
    "processed_mapping = process_tuition_mapping(raw_mapping)\n",
    "\n",
    "print(f\"\\nマッピングテーブルの形状: {processed_mapping.shape}\")\n",
    "print(\"\\nマッピングテーブルの内容（最初の10行）:\")\n",
    "display(processed_mapping.head(10))\n",
    "\n",
    "print(\"\\n=== 学習費区分の階層構造 ===\")\n",
    "print(\"レベル1（最上位）:\", processed_mapping['level1'].unique())\n",
    "print(\"レベル2:\", processed_mapping['level2'].unique())\n",
    "print(\"レベル3:\", processed_mapping['level3'].unique())"
   ]
  },
  {
   "cell_type": "markdown",
   "id": "f62d604f-a70c-4c04-88f3-c31bcbdefb1a",
   "metadata": {},
   "source": [
    "### 3.2 生データの確認"
   ]
  },
  {
   "cell_type": "code",
   "execution_count": null,
   "id": "6dd328a5-746e-41c1-843a-cca3508a73db",
   "metadata": {},
   "outputs": [],
   "source": [
    "# 生データの読み込み（時間がかかる可能性があります）\n",
    "print(\"=== 生データの読み込み ===\")\n",
    "print(\"注意: この処理には数分かかる場合があります\")\n",
    "\n",
    "education_data = load_tuition_education_data()\n",
    "\n",
    "print(\"\\n=== 各教育段階のデータ形状 ===\")\n",
    "for level, df in education_data.items():\n",
    "    print(f\"{level}: {df.shape}\")\n",
    "\n",
    "print(\"\\n=== 小学校データのサンプル ===\")\n",
    "print(\"列名（MultiIndex）:\")\n",
    "display(education_data['elementary'].columns.tolist()[:5])  # 最初の5列\n",
    "\n",
    "print(\"\\nインデックス（学習費区分）:\")\n",
    "print(education_data['elementary'].index.tolist()[:10])  # 最初の10項目\n",
    "\n",
    "print(\"\\nデータサンプル（最初の5行5列）:\")\n",
    "display(education_data['elementary'].iloc[:5, :5])"
   ]
  },
  {
   "cell_type": "markdown",
   "id": "0e125228-09f3-445e-82b7-43b38a87f80a",
   "metadata": {},
   "source": [
    "## 4. 処理済みデータの取得と基本分析\n",
    "\n",
    "### 4.1 完全処理済みデータの取得"
   ]
  },
  {
   "cell_type": "code",
   "execution_count": null,
   "id": "c7ca8ad9-9f08-4b5c-8e8d-34f8117c2c56",
   "metadata": {},
   "outputs": [],
   "source": [
    "# 完全に処理されたデータを取得\n",
    "print(\"=== 完全処理済みデータの取得 ===\")\n",
    "print(\"注意: この処理には数分かかる場合があります\")\n",
    "\n",
    "df_final = get_processed_tuition_data()\n",
    "\n",
    "print(f\"\\n最終データセットの形状: {df_final.shape}\")\n",
    "print(f\"カラム: {list(df_final.columns)}\")\n",
    "\n",
    "print(\"\\n=== データの基本情報 ===\")\n",
    "print(df_final.info())\n",
    "\n",
    "print(\"\\n=== 各カテゴリの件数 ===\")\n",
    "print(f\"公立・私立区分: {df_final['公立・私立区分'].value_counts()}\")\n",
    "print(f\"\\n学校種別: {df_final['学校'].value_counts()}\")\n",
    "print(f\"\\n年齢範囲: {df_final['年齢'].min()} - {df_final['年齢'].max()}歳\")"
   ]
  },
  {
   "cell_type": "markdown",
   "id": "b2a104f1-a666-4b27-b503-87d9590c2cac",
   "metadata": {},
   "source": [
    "### 4.2 データサンプルの表示"
   ]
  },
  {
   "cell_type": "code",
   "execution_count": null,
   "id": "f732b448-7b14-4021-9841-67cc99a14180",
   "metadata": {},
   "outputs": [],
   "source": [
    "# データサンプルの表示\n",
    "print(\"=== 処理済みデータのサンプル ===\")\n",
    "display(df_final.head(50))\n",
    "\n",
    "print(\"\\n=== 欠損値の確認 ===\")\n",
    "print(df_final.isnull().sum())"
   ]
  },
  {
   "cell_type": "markdown",
   "id": "899f9ddb-99c4-43a3-af6f-97a73a33495f",
   "metadata": {},
   "source": [
    "## 5. ピボットテーブルの作成と分析\n",
    "\n",
    "### 5.1 ピボットテーブルの作成\n"
   ]
  },
  {
   "cell_type": "code",
   "execution_count": null,
   "id": "20f6be24-ee4a-4d12-9886-895a06b0c7d6",
   "metadata": {},
   "outputs": [],
   "source": [
    "# ピボットテーブルの作成\n",
    "print(\"=== ピボットテーブルの作成 ===\")\n",
    "pivot_table = create_tuition_pivot_table(df_final)\n",
    "\n",
    "print(f\"ピボットテーブルの形状: {pivot_table.shape}\")\n",
    "print(f\"インデックス名: {pivot_table.index.names}\")\n",
    "print(f\"カラム階層数: {len(pivot_table.columns.levels)}\")\n",
    "\n",
    "print(\"\\n=== ピボットテーブルのサンプル（最初の5行5列） ===\")\n",
    "display(pivot_table.iloc[:5, :5])"
   ]
  },
  {
   "cell_type": "markdown",
   "id": "6fb26a74-bdf2-4b7a-9a6b-1e5185b9493d",
   "metadata": {},
   "source": [
    "## 7. データエクスポートと保存\n",
    "\n",
    "### 7.1 結果の保存"
   ]
  },
  {
   "cell_type": "code",
   "execution_count": null,
   "id": "6e8aeaf4-6b0b-4a01-adae-4e8b88012c52",
   "metadata": {},
   "outputs": [],
   "source": [
    "# 結果をファイルに保存\n",
    "def save_tuition_data(df, output_dir='output'):\n",
    "   \"\"\"\n",
    "   学習費データをファイルに保存\n",
    "   \"\"\"\n",
    "   import os\n",
    "   \n",
    "   # 出力ディレクトリの作成\n",
    "   os.makedirs(output_dir, exist_ok=True)\n",
    "   \n",
    "   # 処理済みデータの保存\n",
    "   df.to_csv(f'{output_dir}/tuition_data.csv', index=False, encoding='utf-8-sig')\n",
    "   df.to_excel(f'{output_dir}/tuition_data.xlsx', index=False)\n",
    "   \n",
    "   print(f\"データを{output_dir}ディレクトリに保存しました\")\n",
    "   print(\"保存されたファイル:\")\n",
    "   print(\"- processed_tuition_data.csv: 処理済みデータ(CSV)\")\n",
    "   print(\"- processed_tuition_data.xlsx: 処理済みデータ(Excel)\")\n",
    "\n",
    "# 結果の保存実行\n",
    "save_tuition_data(df_final)"
   ]
  },
  {
   "cell_type": "code",
   "execution_count": null,
   "id": "514d1cbd-423b-4f55-9860-089871e8a533",
   "metadata": {},
   "outputs": [],
   "source": []
  }
 ],
 "metadata": {
  "kernelspec": {
   "display_name": "Python 3 (ipykernel)",
   "language": "python",
   "name": "python3"
  },
  "language_info": {
   "codemirror_mode": {
    "name": "ipython",
    "version": 3
   },
   "file_extension": ".py",
   "mimetype": "text/x-python",
   "name": "python",
   "nbconvert_exporter": "python",
   "pygments_lexer": "ipython3",
   "version": "3.12.10"
  }
 },
 "nbformat": 4,
 "nbformat_minor": 5
}
