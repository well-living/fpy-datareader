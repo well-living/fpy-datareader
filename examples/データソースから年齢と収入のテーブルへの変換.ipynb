{
 "cells": [
  {
   "cell_type": "markdown",
   "id": "2599d27e-9622-4d08-bdaa-56bc0b19a36e",
   "metadata": {},
   "source": [
    "| 調査名                         | 実施機関       | データの種類             | 年齢別情報 | 備考                                                             |\n",
    "|------------------------------|----------------|--------------------------|------------|------------------------------------------------------------------|\n",
    "| 賃金構造基本統計調査             | 厚生労働省       | 賃金（所定内・外、賞与など） | ◎ あり      | 最も詳細な個人ベースの賃金統計。年齢×学歴×勤続年数×職種など多変量分析可。     |\n",
    "| 民間給与実態統計調査             | 国税庁          | 年間給与（所得）          | ◎ あり      | 全国の給与所得者の年収実態。平均・中央値・分布あり。正規/非正規別も可。         |\n",
    "| 毎月勤労統計調査                 | 厚生労働省       | 月次の給与・労働時間       | ◯ 一部あり   | 年報などで年齢別給与も公表。短期の変化や景気動向把握に向く。                  |\n",
    "| 家計調査                       | 総務省統計局     | 世帯の実収入・支出        | ◯ あり      | 勤労者世帯の世帯主年齢別の平均月収がわかる。世帯単位のデータ。                |\n",
    "| 全国家計構造調査（旧・全国消費実態調査） | 総務省統計局     | 所得・支出・貯蓄・負債等    | ◯ あり      | 5年ごと実施。世帯主年齢別に詳細な所得内訳がわかる。                           |\n",
    "| 国民生活基礎調査                 | 厚生労働省       | 世帯の所得・生活実態       | ◯ あり      | 世帯主年齢別の所得平均・中央値・分布あり。福祉・医療と併せた分析が可能。         |\n",
    "| 就業構造基本調査                 | 総務省統計局     | 職業・就業形態・月収階級等  | △（金額なし、階級）| 月収階級別の年齢分布あり。職種・雇用形態とのクロス集計が可能。                  |\n",
    "| 労働力調査                     | 総務省統計局     | 雇用状況（就業・失業）     | ◯（人数のみ）| 年齢別の就業者数・非労働力人口は把握できるが、賃金金額はなし。                  |\n",
    "\n",
    "\n",
    "\n",
    "\n",
    "家計調査\n",
    "二人以上の世帯\n",
    "用途分類（世帯主の年齢階級別）\n",
    "0002070010\n",
    "用途分類（世帯主の年齢階級別）　年次\n",
    "0002070011\n",
    "\n",
    "単身世帯\n",
    "用途分類（年齢階級別） 単身は支出のみ\n",
    "0003000795\n",
    "0002190004\n",
    "\n",
    "全国家計構造調査\n",
    "世帯の種類(3区分)，世帯区分(4区分)，世帯主の性別(3区分)，世帯主の年齢階級(32区分)，所得構成(44区分)別１世帯当たり年間収入額－全国\n",
    "0003426498\n",
    "世帯の種類(3区分)，世帯主の勤め先企業規模(20区分)，世帯主の年齢階級(32区分)，所得構成(44区分)別１世帯当たり年間収入額－全国\n",
    "0003426474\n",
    "世帯人員(8区分)，有業人員(7区分)，世帯主の年齢階級(32区分)，所得構成(44区分)別１世帯当たり年間収入額－全国\n",
    "0003426475\n",
    "世帯の種類(3区分)，世帯主の年齢階級(32区分)，世帯主の職業(17区分)，所得構成(44区分)別１世帯当たり年間収入額－全国\n",
    "0003426476\n",
    "世帯の種類(3区分)，世帯主の年齢階級(32区分)，公的年金・恩給受給額階級(14区分)，所得構成(44区分)別１世帯当たり年間収入額－全国\n",
    "0003426478\n",
    "世帯の種類(3区分)，世帯主の年齢階級(32区分)，年間収入階級(44区分)，所得構成(44区分)別１世帯当たり年間収入額－全国\n",
    "0003426483\n",
    "世帯の種類(3区分)，世帯主の年齢階級(32区分)，年間収入十分位階級(13区分)，所得構成(44区分)別１世帯当たり年間収入額－全国\n",
    "0003426484\n",
    "世帯の種類(3区分)，世帯主の年齢階級(32区分)，年間収入五分位階級(6区分)，所得構成(44区分)別１世帯当たり年間収入額－全国\n",
    "0003426485\n",
    "世帯主の年齢階級(32区分)，有業人員(7区分)，高齢者世帯類型(21区分)，所得構成(44区分)別１世帯当たり年間収入額－全国\n",
    "0003426489\n",
    "世帯主の年齢階級(32区分)，世帯主の従業上の地位(11区分)，世帯主の配偶者の有無(30区分)，所得構成(44区分)別１世帯当たり年間収入額－全国\n",
    "0003426490\n",
    "世帯主の年齢階級(32区分)，未婚の子供の数(4区分)，世帯主の配偶者の有無(30区分)，所得構成(44区分)別１世帯当たり年間収入額－全国\n",
    "0003426495\n",
    "世帯主の年齢階級(32区分)，有業人員(7区分)，非就業者の有無(40区分)，所得構成(44区分)別１世帯当たり年間収入額－全国\n",
    "0003426496\n",
    "\n",
    "\n",
    "民間給与\n",
    "全国計表　第10表　事業所規模別及び年齢階層別の給与所得者数・給与額　（1年を通じて勤務した給与所得者）　（2014年～）\n",
    "0004009621\n",
    "全国計表　第11表　企業規模別及び年齢階層別の給与所得者数・給与額　（1年を通じて勤務した給与所得者）　（2014年～）\n",
    "0004009622\n",
    "全国計表　第12表　業種別及び年齢階層別の給与所得者数・給与額　（1年を通じて勤務した給与所得者）　（2014年～）\n",
    "0004009623\n",
    "全国計表　第12表　業種別及び年齢階層別の給与所得者数・給与額　（1年を通じて勤務した給与所得者（乙欄適用者を除く））（2014年～）\n",
    "0004009625\n",
    "\n",
    "\n",
    "\n"
   ]
  },
  {
   "cell_type": "code",
   "execution_count": null,
   "id": "a001270a-4546-458e-afc8-678494e8a8dd",
   "metadata": {},
   "outputs": [],
   "source": [
    "import os\n",
    "import sys\n",
    "from pathlib import Path\n",
    "import requests\n",
    "import pandas as pd\n",
    "from dotenv import load_dotenv\n",
    "\n",
    "# 表示設定\n",
    "pd.set_option('display.max_columns', None)\n",
    "pd.set_option('display.width', None)\n",
    "pd.set_option('display.max_colwidth', 50)"
   ]
  },
  {
   "cell_type": "code",
   "execution_count": null,
   "id": "25b15b9a-0bbd-4111-85e6-8214b84ac346",
   "metadata": {},
   "outputs": [],
   "source": [
    "# パッケージのパスを追加（exampleフォルダから一つ上の階層のfpy_datareaderを参照）\n",
    "sys.path.append(os.path.dirname(os.getcwd()))"
   ]
  },
  {
   "cell_type": "code",
   "execution_count": null,
   "id": "a7279eec-3514-482c-a962-986cd9b8ce9c",
   "metadata": {},
   "outputs": [],
   "source": [
    "from jpy_datareader.estat import MetaInfoReader, StatsDataReader\n",
    "from fpy_datareader.future_income_estimater import (\n",
    "    add_age_midpoint_column, \n",
    "    interpolate_age_income,\n",
    "    create_age_income_dataframe_with_midpoint,\n",
    "    process_family_income_expenditure_survey_data,\n",
    "    process_family_income_consumption_wealth_survey_data,\n",
    "    process_wage_structure_survey_data,\n",
    "    process_wage_structure_survey_data_by_prefecture,\n",
    "    process_living_conditions_survey_data,\n",
    "    create_age_income_table\n",
    ")"
   ]
  },
  {
   "cell_type": "code",
   "execution_count": null,
   "id": "8c41055f-977b-43c2-91ea-110537260fbe",
   "metadata": {},
   "outputs": [],
   "source": [
    "# APIキーの読み込み\n",
    "load_dotenv()\n",
    "appId = os.getenv(\"ESTAT_APP_ID\")"
   ]
  },
  {
   "cell_type": "markdown",
   "id": "e84cab1f-0ea9-422e-9e48-9244ffd9908b",
   "metadata": {},
   "source": [
    "## 家計調査"
   ]
  },
  {
   "cell_type": "code",
   "execution_count": null,
   "id": "69523918-5b47-4ce9-a29a-6965dc16d15c",
   "metadata": {},
   "outputs": [],
   "source": [
    "kakei_setai_statsDataId = \"0002070011\"\n",
    "kakei_setai_metainfo = MetaInfoReader(\n",
    "    api_key=appId, \n",
    "    statsDataId=kakei_setai_statsDataId,\n",
    ")\n",
    "kakei_setai_meta = kakei_setai_metainfo.read_class_objs()\n",
    "kakei_setai_metainfo.OVERALL_TOTAL_NUMBER"
   ]
  },
  {
   "cell_type": "code",
   "execution_count": null,
   "id": "3e7c33c4-b764-4db8-96cd-dee5b2cf5288",
   "metadata": {},
   "outputs": [],
   "source": [
    "kakei_setai_meta[0]"
   ]
  },
  {
   "cell_type": "code",
   "execution_count": null,
   "id": "2d5a840b-aca3-4c31-a6fa-d0f13c8ddb82",
   "metadata": {},
   "outputs": [],
   "source": [
    "kakei_setai_meta[1]['meta_dataframe']"
   ]
  },
  {
   "cell_type": "code",
   "execution_count": null,
   "id": "2f6b338f-6061-4939-9126-20def15ee342",
   "metadata": {},
   "outputs": [],
   "source": [
    "kakei_setai_meta[2]"
   ]
  },
  {
   "cell_type": "code",
   "execution_count": null,
   "id": "e3f9ec55-143e-45e9-993e-ce8d5adc2ad4",
   "metadata": {},
   "outputs": [],
   "source": [
    "kakei_setai_meta[3]"
   ]
  },
  {
   "cell_type": "code",
   "execution_count": null,
   "id": "9d924456-e755-410c-afec-2c8ee46c63aa",
   "metadata": {},
   "outputs": [],
   "source": [
    "kakei_setai_meta[4]"
   ]
  },
  {
   "cell_type": "code",
   "execution_count": null,
   "id": "ecf0affa-8421-4f01-bc5d-8b3b6dc70038",
   "metadata": {},
   "outputs": [],
   "source": [
    "kakei_setai_meta[5]"
   ]
  },
  {
   "cell_type": "code",
   "execution_count": null,
   "id": "37ae243e-2849-4bf3-83fe-3403c54f1091",
   "metadata": {},
   "outputs": [],
   "source": [
    "process_family_income_expenditure_survey_data(\n",
    "    api_key=appId,\n",
    ")"
   ]
  },
  {
   "cell_type": "markdown",
   "id": "956ce4df-70dd-4626-b11c-1a02b7d5f7d8",
   "metadata": {},
   "source": [
    "## 全国家計構造調査"
   ]
  },
  {
   "cell_type": "code",
   "execution_count": null,
   "id": "86e0ea56-02f6-464a-a9d2-0a4ab3afa66d",
   "metadata": {},
   "outputs": [],
   "source": [
    "ficw_statsDataId = \"0003424621\"\n",
    "ficw_metainfo = MetaInfoReader(\n",
    "    api_key=appId,\n",
    "    statsDataId=ficw_statsDataId,\n",
    "    has_lv_hierarchy=True,\n",
    ")\n",
    "ficw_meta = ficw_metainfo.read_class_objs()\n",
    "ficw_metainfo.OVERALL_TOTAL_NUMBER"
   ]
  },
  {
   "cell_type": "code",
   "execution_count": null,
   "id": "6d8d00a6-b17f-4a0b-b9d9-d0cf20f067ec",
   "metadata": {},
   "outputs": [],
   "source": [
    "ficw_meta[0]"
   ]
  },
  {
   "cell_type": "code",
   "execution_count": null,
   "id": "75829512-497e-438a-82ec-11ec20276f17",
   "metadata": {},
   "outputs": [],
   "source": [
    "ficw_meta[1]"
   ]
  },
  {
   "cell_type": "code",
   "execution_count": null,
   "id": "05355085-7211-4137-88b7-3e858bbc78cd",
   "metadata": {},
   "outputs": [],
   "source": [
    "ficw_meta[2]"
   ]
  },
  {
   "cell_type": "code",
   "execution_count": null,
   "id": "48be9d99-2f7f-4d38-acda-6f39d37855e7",
   "metadata": {},
   "outputs": [],
   "source": [
    "ficw_meta[3]"
   ]
  },
  {
   "cell_type": "code",
   "execution_count": null,
   "id": "56d4d54f-faec-40f0-b004-bfea729e3eb7",
   "metadata": {},
   "outputs": [],
   "source": [
    "ficw_meta_df = ficw_meta[4]['meta_dataframe']\n",
    "ficw_meta_df"
   ]
  },
  {
   "cell_type": "code",
   "execution_count": null,
   "id": "4c67d399-b946-4dd1-bf19-c33d42d26481",
   "metadata": {},
   "outputs": [],
   "source": [
    "ficw_meta_df[ficw_meta_df[\"収支項目分類（細分類）406区分コード\"].str[0]==\"4\"]"
   ]
  },
  {
   "cell_type": "code",
   "execution_count": null,
   "id": "eae4e3f9-54ff-4344-bce4-fb37f4e04e40",
   "metadata": {},
   "outputs": [],
   "source": [
    "ficw_meta[5]"
   ]
  },
  {
   "cell_type": "code",
   "execution_count": null,
   "id": "710b12a6-d9e6-4b79-b8f7-b199c38ca43d",
   "metadata": {},
   "outputs": [],
   "source": [
    "ficw_meta[6]"
   ]
  },
  {
   "cell_type": "code",
   "execution_count": null,
   "id": "ac9bb217-9f88-40b8-b949-1b54ba1e6191",
   "metadata": {},
   "outputs": [],
   "source": [
    "ficw_meta[7]"
   ]
  },
  {
   "cell_type": "code",
   "execution_count": null,
   "id": "f2e715e0-12b8-439e-9630-9687787be9a6",
   "metadata": {},
   "outputs": [],
   "source": [
    "process_family_income_consumption_wealth_survey_data(\n",
    "    api_key=appId,\n",
    ")"
   ]
  },
  {
   "cell_type": "code",
   "execution_count": null,
   "id": "f71558e9-2d6f-4367-ad3f-20473a93c514",
   "metadata": {},
   "outputs": [],
   "source": []
  },
  {
   "cell_type": "markdown",
   "id": "cfd9a6a9-fdc2-45c8-85aa-2b39b1258284",
   "metadata": {},
   "source": [
    "## 賃金構造基本調査\n",
    "\n",
    "賃金構造基本統計調査\n",
    "https://www.e-stat.go.jp/stat-search/database?page=1&layout=datalist&toukei=00450091&tstat=000001011429&cycle=0&tclass1val=0&metadata=1&data=1\n",
    "一般_産業大・中分類_年齢階級別DB\n",
    "0003425893\n",
    "一般_都道府県別_年齢階級別DB\n",
    "0003426933\n"
   ]
  },
  {
   "cell_type": "code",
   "execution_count": null,
   "id": "efdeed8b-55f7-4668-961e-91561ffb84f9",
   "metadata": {},
   "outputs": [],
   "source": [
    "chingin_statsDataId = \"0003425893\"\n",
    "chingin_metainfo = MetaInfoReader(\n",
    "    api_key=appId, \n",
    "    statsDataId=chingin_statsDataId,\n",
    "    has_lv_hierarchy=True,  # 階層情報も取得\n",
    ")\n",
    "chingin_meta = chingin_metainfo.read_class_objs()\n",
    "chingin_metainfo.OVERALL_TOTAL_NUMBER"
   ]
  },
  {
   "cell_type": "code",
   "execution_count": null,
   "id": "8ac3a64b-1d09-43d8-ae21-8a3dd72deadc",
   "metadata": {},
   "outputs": [],
   "source": [
    "chingin_meta[0]"
   ]
  },
  {
   "cell_type": "code",
   "execution_count": null,
   "id": "9175f02a-b586-41af-8fd6-1d79aee42b9b",
   "metadata": {},
   "outputs": [],
   "source": [
    "chingin_meta[1]"
   ]
  },
  {
   "cell_type": "code",
   "execution_count": null,
   "id": "dec751ab-4a38-4d7c-aedd-9b38f37c3bfc",
   "metadata": {},
   "outputs": [],
   "source": [
    "chingin_meta[2][\"meta_dataframe\"]"
   ]
  },
  {
   "cell_type": "code",
   "execution_count": null,
   "id": "14be98f2-0307-42a6-816f-de1eaf01f956",
   "metadata": {},
   "outputs": [],
   "source": [
    "chingin_meta[3]"
   ]
  },
  {
   "cell_type": "code",
   "execution_count": null,
   "id": "528342d6-a9c4-46a9-8c17-3445d57ab032",
   "metadata": {},
   "outputs": [],
   "source": [
    "chingin_meta[4]"
   ]
  },
  {
   "cell_type": "code",
   "execution_count": null,
   "id": "b1c6fbd9-edf3-4a7f-81f2-9f169e18c222",
   "metadata": {},
   "outputs": [],
   "source": [
    "chingin_meta[5]"
   ]
  },
  {
   "cell_type": "code",
   "execution_count": null,
   "id": "bb6b32e6-c8e5-4546-bda0-4854f42c03ce",
   "metadata": {},
   "outputs": [],
   "source": [
    "chingin_meta[6]"
   ]
  },
  {
   "cell_type": "code",
   "execution_count": null,
   "id": "c7091a74-71f5-4956-8c09-76dc1409561c",
   "metadata": {},
   "outputs": [],
   "source": [
    "chingin_meta[7]"
   ]
  },
  {
   "cell_type": "code",
   "execution_count": null,
   "id": "ed063f1c-146c-4540-a8d1-9345654005b3",
   "metadata": {},
   "outputs": [],
   "source": [
    "process_wage_structure_survey_data(\n",
    "    api_key=appId\n",
    ")"
   ]
  },
  {
   "cell_type": "code",
   "execution_count": null,
   "id": "060a90d5-f31a-4064-bade-d3f0f8ce252a",
   "metadata": {},
   "outputs": [],
   "source": []
  },
  {
   "cell_type": "code",
   "execution_count": null,
   "id": "beaecc6c-333a-4e34-9326-2dabda902536",
   "metadata": {},
   "outputs": [],
   "source": []
  },
  {
   "cell_type": "code",
   "execution_count": null,
   "id": "41099ac9-9fb2-4dec-8eef-3ad8d124686f",
   "metadata": {},
   "outputs": [],
   "source": []
  },
  {
   "cell_type": "code",
   "execution_count": null,
   "id": "38165c77-33f0-4086-80e1-68d3c39ad05c",
   "metadata": {},
   "outputs": [],
   "source": [
    "chingin_statsDataId = \"0003426933\"\n",
    "chingin_metainfo = MetaInfoReader(\n",
    "    api_key=appId, \n",
    "    statsDataId=chingin_statsDataId,\n",
    "    has_lv_hierarchy=True,  # 階層情報も取得\n",
    ")\n",
    "chingin_meta = chingin_metainfo.read_class_objs()\n",
    "chingin_metainfo.OVERALL_TOTAL_NUMBER"
   ]
  },
  {
   "cell_type": "code",
   "execution_count": null,
   "id": "4fc0a8a0-c704-4d6d-a8b0-735ec66698ca",
   "metadata": {},
   "outputs": [],
   "source": [
    "chingin_meta[0]"
   ]
  },
  {
   "cell_type": "code",
   "execution_count": null,
   "id": "0da8deaa-0331-426e-8b9e-20edc05e3a88",
   "metadata": {},
   "outputs": [],
   "source": [
    "chingin_meta[1]"
   ]
  },
  {
   "cell_type": "code",
   "execution_count": null,
   "id": "10ea5870-448b-483b-a0c1-594c17d4610a",
   "metadata": {},
   "outputs": [],
   "source": [
    "chingin_meta[2]"
   ]
  },
  {
   "cell_type": "code",
   "execution_count": null,
   "id": "b8023655-304f-477b-b9d3-0ea5db3cda50",
   "metadata": {},
   "outputs": [],
   "source": [
    "chingin_meta[3]"
   ]
  },
  {
   "cell_type": "code",
   "execution_count": null,
   "id": "2482dd53-2cf6-4825-9871-61ac6e0abedc",
   "metadata": {
    "scrolled": true
   },
   "outputs": [],
   "source": [
    "chingin_meta[4]"
   ]
  },
  {
   "cell_type": "code",
   "execution_count": null,
   "id": "2957655c-7d24-4e41-8625-4b108c6cf4eb",
   "metadata": {
    "scrolled": true
   },
   "outputs": [],
   "source": [
    "chingin_meta[5]"
   ]
  },
  {
   "cell_type": "code",
   "execution_count": null,
   "id": "ebdf1777-b7e4-4602-bcac-c35c7eb9f86d",
   "metadata": {},
   "outputs": [],
   "source": [
    "chingin_meta[6]"
   ]
  },
  {
   "cell_type": "code",
   "execution_count": null,
   "id": "da9717f6-19ae-4caa-bd73-dc353d158526",
   "metadata": {},
   "outputs": [],
   "source": [
    "# 賃金構造基本調査\n",
    "def get_chingin_statsdata_by_cdCat01(\n",
    "        appId: str, \n",
    "        statsDataId: str,\n",
    "        name: str,\n",
    "        cdTab: str,          \n",
    "        cdCat03: str=\"01\",  # 企業規模計（10人以上）\n",
    "        cdCat04: str=\"01\",  #  Ｔ１ 産業計\n",
    "        area: str=\"13000\",  \n",
    "        yyyy = 2023\n",
    "    ) -> pd.DataFrame:\n",
    "    params = {\n",
    "        \"cdTab\": cdTab,\n",
    "        \"cdCat01\": \"01\",  # 男女計\n",
    "        \"cdCat03\": cdCat03,\n",
    "        \"cdCat04\": cdCat04,\n",
    "        \"cdArea\": area,\n",
    "        \"cdTime\": f\"{yyyy}000000\"\n",
    "    }\n",
    "    data = StatsDataReader(\n",
    "        api_key=appId,\n",
    "        statsDataId=statsDataId,\n",
    "        **params\n",
    "    )\n",
    "    value = data.read()\n",
    "    df = value.loc[~value[\"年齢階級_基本\"].isin([\"年齢計\"]), ['年齢階級_基本', '値']]\n",
    "    return df.rename(columns={\"値\": name})"
   ]
  },
  {
   "cell_type": "code",
   "execution_count": null,
   "id": "6737c9db-17b6-44bb-840b-716cfa6d9807",
   "metadata": {
    "scrolled": true
   },
   "outputs": [],
   "source": [
    "chingin_age_df = get_chingin_statsdata_by_cdCat01(appId, chingin_statsDataId, \"age\", \"33\")\n",
    "chingin_salary_df = get_chingin_statsdata_by_cdCat01(appId, chingin_statsDataId, \"salary\", \"40\") # 月間\n",
    "chingin_bonus_df = get_chingin_statsdata_by_cdCat01(appId, chingin_statsDataId, \"bonus\", \"44\")  #年間\n",
    "chingin_age_df"
   ]
  },
  {
   "cell_type": "code",
   "execution_count": null,
   "id": "17f096e3-3f47-4b26-8035-c3b82de197cf",
   "metadata": {},
   "outputs": [],
   "source": [
    "chingin_df = chingin_age_df.assign(**{\"income\": (chingin_salary_df[\"salary\"] * 12 + chingin_bonus_df[\"bonus\"]) * 1000})[[\"年齢\", \"income\"]]"
   ]
  },
  {
   "cell_type": "code",
   "execution_count": null,
   "id": "b4b107df-d4b8-40fe-8780-f16d9266cd24",
   "metadata": {},
   "outputs": [],
   "source": [
    "interpolate_age_income(\n",
    "    chingin_df,\n",
    "    start_age=15, \n",
    "    end_age=80, \n",
    "    method='linear', \n",
    "    extrapolation='terminal', \n",
    "    terminal_start=0, \n",
    "    terminal_end=100,\n",
    "    include_growth_rate=True,\n",
    "    include_growth_ma=True,\n",
    "    growth_ma_periods=3\n",
    ").head(30)"
   ]
  },
  {
   "cell_type": "code",
   "execution_count": null,
   "id": "585ae3e1-bc62-4131-9ceb-564d1953ad03",
   "metadata": {},
   "outputs": [],
   "source": []
  },
  {
   "cell_type": "markdown",
   "id": "7b144e54-1598-4d71-b262-6e38b82d3adb",
   "metadata": {},
   "source": [
    "## 国民生活基礎調査\n",
    "\n",
    "\n",
    "国民生活基礎調査\n",
    "１世帯当たり平均所得金額－世帯人員１人当たり平均所得金額，世帯主の年齢（10歳階級）・年次別　\n",
    "0004021242\n",
    "平均所得金額－平均世帯人員－平均有業人員，世帯主の年齢（10歳階級）別\n",
    "0004021274"
   ]
  },
  {
   "cell_type": "code",
   "execution_count": null,
   "id": "87cb08dc-7ade-4b3e-85c8-4b4e1d8d94d4",
   "metadata": {},
   "outputs": [],
   "source": [
    "seikatsu_statsDataId = \"0004021242\"\n",
    "# MetaInfoReaderインスタンスの作成\n",
    "seikatsu_metainfo = MetaInfoReader(\n",
    "    api_key=appId, \n",
    "    statsDataId=seikatsu_statsDataId,\n",
    ")"
   ]
  },
  {
   "cell_type": "code",
   "execution_count": null,
   "id": "a01524a5-5913-445b-bf2d-fc2690dcf612",
   "metadata": {},
   "outputs": [],
   "source": [
    "seikatsu_meta = seikatsu_metainfo.read_class_objs()"
   ]
  },
  {
   "cell_type": "code",
   "execution_count": null,
   "id": "8209acaf-8774-44ad-8e13-66ec51204054",
   "metadata": {},
   "outputs": [],
   "source": [
    "seikatsu_meta[0]"
   ]
  },
  {
   "cell_type": "code",
   "execution_count": null,
   "id": "074002ba-89f8-42c4-9872-2d08598f9eb4",
   "metadata": {},
   "outputs": [],
   "source": [
    "seikatsu_meta[1]"
   ]
  },
  {
   "cell_type": "code",
   "execution_count": null,
   "id": "125d1b2d-6e27-462d-8c70-867d52f72ca2",
   "metadata": {},
   "outputs": [],
   "source": [
    "seikatsu_meta[2]"
   ]
  },
  {
   "cell_type": "code",
   "execution_count": null,
   "id": "fdafad9a-84bd-4f3e-9162-ac4c9c2ff109",
   "metadata": {},
   "outputs": [],
   "source": [
    "seikatsu_meta[3]"
   ]
  },
  {
   "cell_type": "code",
   "execution_count": null,
   "id": "95d55f63-a4f4-4795-ba05-445039fc75ab",
   "metadata": {},
   "outputs": [],
   "source": [
    "# 国民生活基本調査\n",
    "def get_seikatsu_statsdata(\n",
    "        appId: str, \n",
    "        statsDataId: str,\n",
    "        name: str,\n",
    "        cdTab: str=\"10\", #    １世帯当たり平均所得金額        \n",
    "        cdCat02: str=\"038\",  #  2022(令和4)年 \n",
    "    ) -> pd.DataFrame:\n",
    "    params = {\n",
    "        \"cdTab\": cdTab,\n",
    "        \"cdCat02\": cdCat02,\n",
    "    }\n",
    "    data = StatsDataReader(\n",
    "        api_key=appId,\n",
    "        statsDataId=statsDataId,\n",
    "        **params\n",
    "    )\n",
    "    value = data.read()\n",
    "    cond = ~value[\"世帯主の年齢（１０歳階級）_102\"].str.contains(\"総数|再掲\")\n",
    "    df = value.loc[cond, ['世帯主の年齢（１０歳階級）_102', '値']]\n",
    "    return df.rename(columns={\"値\": name})"
   ]
  },
  {
   "cell_type": "code",
   "execution_count": null,
   "id": "dc649c37-0750-40b9-bd16-20860348d964",
   "metadata": {},
   "outputs": [],
   "source": [
    "seikatsu_income_df = get_seikatsu_statsdata(appId, seikatsu_statsDataId, \"income\")\n",
    "seikatsu_income_df"
   ]
  },
  {
   "cell_type": "code",
   "execution_count": null,
   "id": "fe2f39c1-4690-415b-9c0e-e93df42d319d",
   "metadata": {},
   "outputs": [],
   "source": [
    "interpolate_age_income(\n",
    "    add_age_midpoint_column(seikatsu_income_df, '世帯主の年齢（１０歳階級）_102', 'income', method='continuous'),\n",
    "    start_age=15, \n",
    "    end_age=80, \n",
    "    method='linear', \n",
    "    extrapolation='terminal', \n",
    "    terminal_start=0, \n",
    "    terminal_end=100,\n",
    "    include_growth_rate=True,\n",
    "    include_growth_ma=True,\n",
    "    growth_ma_periods=3\n",
    ").head(30)"
   ]
  },
  {
   "cell_type": "code",
   "execution_count": null,
   "id": "374e1c4a-02c6-4db5-afa7-4d8d23eec115",
   "metadata": {},
   "outputs": [],
   "source": []
  },
  {
   "cell_type": "code",
   "execution_count": null,
   "id": "d17ce9e9-9be2-46e8-9412-2f04af76ddc1",
   "metadata": {},
   "outputs": [],
   "source": []
  }
 ],
 "metadata": {
  "kernelspec": {
   "display_name": "Python 3 (ipykernel)",
   "language": "python",
   "name": "python3"
  },
  "language_info": {
   "codemirror_mode": {
    "name": "ipython",
    "version": 3
   },
   "file_extension": ".py",
   "mimetype": "text/x-python",
   "name": "python",
   "nbconvert_exporter": "python",
   "pygments_lexer": "ipython3",
   "version": "3.12.10"
  }
 },
 "nbformat": 4,
 "nbformat_minor": 5
}
