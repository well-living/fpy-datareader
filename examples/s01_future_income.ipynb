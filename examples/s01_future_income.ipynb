{
 "cells": [
  {
   "cell_type": "markdown",
   "id": "2599d27e-9622-4d08-bdaa-56bc0b19a36e",
   "metadata": {},
   "source": [
    "# 日本の年齢別収入データ分析ガイド\n",
    "\n",
    "このJupyterノートブックは、日本の公的統計データから年齢別収入データを取得・処理するためのサンプルコードです。複数の統計調査から年齢別の収入情報を取得し、将来の収入予測に使用できる形式に変換します。\n",
    "\n",
    "## 概要\n",
    "\n",
    "### 使用するデータソース\n",
    "\n",
    "| 調査名 | 実施機関 | データの種類 | 年齢別情報 | 備考 |\n",
    "|--------|----------|--------------|------------|------|\n",
    "| 賃金構造基本統計調査 | 厚生労働省 | 賃金（所定内・外、賞与など） | ◎ あり | 最も詳細な個人ベースの賃金統計。年齢×学歴×勤続年数×職種など多変量分析可 |\n",
    "| 家計調査 | 総務省統計局 | 世帯の実収入・支出 | ○ あり | 勤労者世帯の世帯主年齢別の平均月収がわかる。世帯単位のデータ |\n",
    "| 全国家計構造調査（旧・全国消費実態調査） | 総務省統計局 | 所得・支出・貯蓄・負債等 | ○ あり | 5年ごと実施。世帯主年齢別に詳細な所得内訳がわかる |\n",
    "| 民間給与実態統計調査 | 国税庁 | 年間給与（所得） | ◎ あり | 全国の給与所得者の年収実態。平均・中央値・分布あり。正規/非正規別も可 |\n",
    "| 国民生活基礎調査 | 厚生労働省 | 世帯の所得・生活実態 | ○ あり | 世帯主年齢別の所得平均・中央値・分布あり。福祉・医療と併せた分析が可能 |\n",
    "| 毎月勤労統計調査 | 厚生労働省 | 月次の給与・労働時間 | ○ 一部あり | 年報などで年齢別給与も公表。短期の変化や景気動向把握に向く |\n",
    "| 労働力調査 | 総務省統計局 | 雇用状況（就業・失業） | ○（人数のみ） | 年齢別の就業者数・非労働力人口は把握できるが、賃金金額はなし |\n",
    "| 就業構造基本調査 | 総務省統計局 | 職業・就業形態・月収階級等 | △（金額なし、階級） | 月収階級別の年齢分布あり。職種・雇用形態とのクロス集計が可能 |\n",
    "\n",
    "## 環境セットアップ\n",
    "\n",
    "### 必要なライブラリのインポート"
   ]
  },
  {
   "cell_type": "code",
   "execution_count": null,
   "id": "a001270a-4546-458e-afc8-678494e8a8dd",
   "metadata": {},
   "outputs": [],
   "source": [
    "import os\n",
    "import sys\n",
    "from pathlib import Path\n",
    "import requests\n",
    "import pandas as pd\n",
    "from dotenv import load_dotenv\n",
    "\n",
    "# 表示設定\n",
    "pd.set_option('display.max_columns', None)\n",
    "pd.set_option('display.width', None)\n",
    "pd.set_option('display.max_colwidth', 50)"
   ]
  },
  {
   "cell_type": "markdown",
   "id": "444a6365-5f0c-4e60-9d61-30281eb98bc6",
   "metadata": {},
   "source": [
    "### パッケージのパス設定とインポート"
   ]
  },
  {
   "cell_type": "code",
   "execution_count": null,
   "id": "25b15b9a-0bbd-4111-85e6-8214b84ac346",
   "metadata": {},
   "outputs": [],
   "source": [
    "# パッケージのパスを追加（exampleフォルダから一つ上の階層のfpy_datareaderを参照）\n",
    "sys.path.append(os.path.dirname(os.getcwd()))\n",
    "\n",
    "from jpy_datareader.estat import MetaInfoReader, StatsDataReader\n",
    "from fpy_datareader.future_income_estimator import (\n",
    "    add_age_midpoint_column, \n",
    "    interpolate_age_income,\n",
    "    add_income_multiplier_columns,\n",
    "    sum_income_multiplier,\n",
    "    calculate_lifetime_income,\n",
    "    create_age_income_dataframe_with_midpoint,\n",
    "    process_family_income_expenditure_survey_data,\n",
    "    process_family_income_consumption_wealth_survey_data,\n",
    "    process_wage_structure_survey_data,\n",
    "    process_wage_structure_survey_data_by_prefecture,\n",
    "    process_living_conditions_survey_data,\n",
    "    create_age_income_table\n",
    ")"
   ]
  },
  {
   "cell_type": "markdown",
   "id": "f2a7bf63-f982-4524-b5bc-3ee5f1e8eb08",
   "metadata": {},
   "source": [
    "### APIキーの設定"
   ]
  },
  {
   "cell_type": "code",
   "execution_count": null,
   "id": "8c41055f-977b-43c2-91ea-110537260fbe",
   "metadata": {},
   "outputs": [],
   "source": [
    "# APIキーの読み込み\n",
    "load_dotenv()\n",
    "appId = os.getenv(\"ESTAT_APP_ID\")"
   ]
  },
  {
   "cell_type": "markdown",
   "id": "e84cab1f-0ea9-422e-9e48-9244ffd9908b",
   "metadata": {},
   "source": [
    "**重要**: e-Stat APIを使用するには、事前にAPIキーの取得が必要です。[e-Stat API](https://www.e-stat.go.jp/api/)で登録してください。\n",
    "\n",
    "## 1. 家計調査\n",
    "\n",
    "家計調査は、総務省統計局が実施する世帯の収入・支出を調べる基幹統計です。\n",
    "\n",
    "### データの特徴\n",
    "- **対象**: 二人以上の世帯および単身世帯\n",
    "- **頻度**: 月次調査\n",
    "- **収入データ**: 世帯主の年齢階級別平均月収\n",
    "- **用途**: 世帯単位での収入分析\n",
    "\n",
    "### 利用可能なstatsDataId\n",
    "\n",
    "#### 二人以上の世帯\n",
    "- **月次データ**: `0002070010` - 用途分類（世帯主の年齢階級別）\n",
    "- **年次データ**: `0002070011` - 用途分類（世帯主の年齢階級別）年次\n",
    "\n",
    "#### 単身世帯（支出のみ）\n",
    "- **月次データ**: `0003000795` - 用途分類（年齢階級別）\n",
    "- **年次データ**: `0002190004` - 用途分類（年齢階級別）年次\n",
    "\n",
    "**注意**: 単身世帯のデータ（statsDataId: `0003000795`, `0002190004`）は支出項目のみで、収入データは含まれていません。収入分析には二人以上世帯のデータ（statsDataId: `0002070010`, `0002070011`）を使用してください。\n",
    "\n",
    "### メタデータの確認"
   ]
  },
  {
   "cell_type": "code",
   "execution_count": null,
   "id": "69523918-5b47-4ce9-a29a-6965dc16d15c",
   "metadata": {},
   "outputs": [],
   "source": [
    "# 二人以上世帯の年次データを例として使用\n",
    "kakei_setai_statsDataId = \"0002070011\"\n",
    "kakei_setai_metainfo = MetaInfoReader(\n",
    "    api_key=appId, \n",
    "    statsDataId=kakei_setai_statsDataId,\n",
    ")\n",
    "kakei_setai_meta = kakei_setai_metainfo.read_class_objs()\n",
    "kakei_setai_metainfo.OVERALL_TOTAL_NUMBER"
   ]
  },
  {
   "cell_type": "markdown",
   "id": "3cc92ad9-078b-4272-b44b-e31cba681895",
   "metadata": {},
   "source": [
    "#### メタデータの構造確認\n",
    "\n",
    "各メタデータの内容を順次確認します：\n",
    "\n",
    "1. **表章項目** (`kakei_setai_meta[0]`): 金額、世帯数、人員などの測定項目\n",
    "2. **用途分類** (`kakei_setai_meta[1]`): 収入・支出の詳細分類\n",
    "3. **世帯区分** (`kakei_setai_meta[2]`): 二人以上世帯、勤労者世帯など\n",
    "4. **年齢階級** (`kakei_setai_meta[3]`): 世帯主の年齢区分（25～29歳、30～34歳など）\n",
    "5. **地域区分** (`kakei_setai_meta[4]`): 全国、地域別\n",
    "6. **時間軸** (`kakei_setai_meta[5]`): 調査年月\n"
   ]
  },
  {
   "cell_type": "code",
   "execution_count": null,
   "id": "3e7c33c4-b764-4db8-96cd-dee5b2cf5288",
   "metadata": {},
   "outputs": [],
   "source": [
    "kakei_setai_meta[0]"
   ]
  },
  {
   "cell_type": "code",
   "execution_count": null,
   "id": "2d5a840b-aca3-4c31-a6fa-d0f13c8ddb82",
   "metadata": {},
   "outputs": [],
   "source": [
    "kakei_setai_meta[1]['meta_dataframe']"
   ]
  },
  {
   "cell_type": "code",
   "execution_count": null,
   "id": "2f6b338f-6061-4939-9126-20def15ee342",
   "metadata": {},
   "outputs": [],
   "source": [
    "kakei_setai_meta[2]"
   ]
  },
  {
   "cell_type": "code",
   "execution_count": null,
   "id": "e3f9ec55-143e-45e9-993e-ce8d5adc2ad4",
   "metadata": {},
   "outputs": [],
   "source": [
    "kakei_setai_meta[3]"
   ]
  },
  {
   "cell_type": "code",
   "execution_count": null,
   "id": "9d924456-e755-410c-afec-2c8ee46c63aa",
   "metadata": {},
   "outputs": [],
   "source": [
    "kakei_setai_meta[4]"
   ]
  },
  {
   "cell_type": "code",
   "execution_count": null,
   "id": "ecf0affa-8421-4f01-bc5d-8b3b6dc70038",
   "metadata": {},
   "outputs": [],
   "source": [
    "kakei_setai_meta[5]"
   ]
  },
  {
   "cell_type": "markdown",
   "id": "68d944f8-59e2-4eca-a488-99e795ea5e0e",
   "metadata": {},
   "source": [
    "### データ処理と結果\n",
    "\n",
    "この関数は、家計調査データから年齢別収入カーブを作成し、以下の列を持つDataFrameを返します：\n",
    "- `age`: 年齢（15歳から開始）\n",
    "- `income`: 年収（円）\n",
    "- `growth_rate`: 前年からの成長率\n",
    "- `growth_rate_ma`: 移動平均された成長率"
   ]
  },
  {
   "cell_type": "code",
   "execution_count": null,
   "id": "37ae243e-2849-4bf3-83fe-3403c54f1091",
   "metadata": {},
   "outputs": [],
   "source": [
    "process_family_income_expenditure_survey_data(\n",
    "    api_key=appId,\n",
    ").head(30)"
   ]
  },
  {
   "cell_type": "markdown",
   "id": "956ce4df-70dd-4626-b11c-1a02b7d5f7d8",
   "metadata": {},
   "source": [
    "\n",
    "## 2. 全国家計構造調査\n",
    "\n",
    "5年ごとに実施される詳細な家計調査で、より詳細な所得・資産情報を提供します。\n",
    "\n",
    "### データの特徴\n",
    "- **実施頻度**: 5年ごと\n",
    "- **詳細度**: 所得・支出・貯蓄・負債の詳細分析が可能\n",
    "- **最新データ**: 2019年調査結果\n",
    "\n",
    "### 利用可能なstatsDataId\n",
    "\n",
    "#### 主要なデータセット\n",
    "- **基本データ**: `0003424621` - 世帯の種類・年齢階級・所得構成別データ\n",
    "- 他にも以下のような詳細分類データが利用可能：\n",
    "  - `0003426498` - 世帯の種類・世帯区分・性別・年齢階級・所得構成別\n",
    "  - `0003426474` - 世帯の種類・企業規模・年齢階級・所得構成別\n",
    "  - `0003426475` - 世帯人員・有業人員・年齢階級・所得構成別\n",
    "  - `0003426476` - 世帯の種類・職業・年齢階級・所得構成別\n",
    "  - `0003426478` - 世帯の種類・公的年金受給額階級・年齢階級・所得構成別\n",
    "  - `0003426483` - 世帯の種類・年間収入階級・年齢階級・所得構成別\n",
    "  - `0003426484` - 世帯の種類・年間収入十分位階級・年齢階級・所得構成別\n",
    "  - `0003426485` - 世帯の種類・年間収入五分位階級・年齢階級・所得構成別\n",
    "\n",
    "### メタデータの確認\n"
   ]
  },
  {
   "cell_type": "code",
   "execution_count": null,
   "id": "86e0ea56-02f6-464a-a9d2-0a4ab3afa66d",
   "metadata": {},
   "outputs": [],
   "source": [
    "ficw_statsDataId = \"0003424621\"\n",
    "ficw_metainfo = MetaInfoReader(\n",
    "    api_key=appId,\n",
    "    statsDataId=ficw_statsDataId,\n",
    ")\n",
    "ficw_meta = ficw_metainfo.read_class_objs()\n",
    "ficw_metainfo.OVERALL_TOTAL_NUMBER"
   ]
  },
  {
   "cell_type": "markdown",
   "id": "62476d59-47de-42dc-ae3d-21f9811c35f2",
   "metadata": {},
   "source": [
    "\n",
    "#### 重要なメタデータ項目\n",
    "\n",
    "1. **世帯の種類**: 総世帯、二人以上の世帯、単身世帯\n",
    "2. **世帯区分**: 全世帯、勤労者世帯、無職世帯、その他の世帯\n",
    "3. **性別**: 平均、男、女\n",
    "4. **収支項目分類**: 総数、平均、支払、実支出、消費支出など406項目\n",
    "5. **年齢階級**: 30歳未満～85歳以上の32区分\n"
   ]
  },
  {
   "cell_type": "code",
   "execution_count": null,
   "id": "6d8d00a6-b17f-4a0b-b9d9-d0cf20f067ec",
   "metadata": {},
   "outputs": [],
   "source": [
    "ficw_meta[0]"
   ]
  },
  {
   "cell_type": "code",
   "execution_count": null,
   "id": "75829512-497e-438a-82ec-11ec20276f17",
   "metadata": {},
   "outputs": [],
   "source": [
    "ficw_meta[1]"
   ]
  },
  {
   "cell_type": "code",
   "execution_count": null,
   "id": "05355085-7211-4137-88b7-3e858bbc78cd",
   "metadata": {},
   "outputs": [],
   "source": [
    "ficw_meta[2]"
   ]
  },
  {
   "cell_type": "code",
   "execution_count": null,
   "id": "48be9d99-2f7f-4d38-acda-6f39d37855e7",
   "metadata": {},
   "outputs": [],
   "source": [
    "ficw_meta[3]"
   ]
  },
  {
   "cell_type": "markdown",
   "id": "1df4275a-9d44-49d0-8e1f-01067d11b226",
   "metadata": {},
   "source": [
    "### 可処分所得の確認"
   ]
  },
  {
   "cell_type": "code",
   "execution_count": null,
   "id": "56d4d54f-faec-40f0-b004-bfea729e3eb7",
   "metadata": {},
   "outputs": [],
   "source": [
    "ficw_meta_df = ficw_meta[4]['meta_dataframe']\n",
    "ficw_meta_df"
   ]
  },
  {
   "cell_type": "code",
   "execution_count": null,
   "id": "4c67d399-b946-4dd1-bf19-c33d42d26481",
   "metadata": {},
   "outputs": [],
   "source": [
    "# 可処分所得のコードを確認\n",
    "ficw_meta_df = ficw_meta[4]['meta_dataframe']\n",
    "disposable_income = ficw_meta_df[ficw_meta_df[\"収支項目分類（細分類）406区分コード\"].str[0]==\"4\"]"
   ]
  },
  {
   "cell_type": "code",
   "execution_count": null,
   "id": "eae4e3f9-54ff-4344-bce4-fb37f4e04e40",
   "metadata": {},
   "outputs": [],
   "source": [
    "ficw_meta[5]"
   ]
  },
  {
   "cell_type": "code",
   "execution_count": null,
   "id": "710b12a6-d9e6-4b79-b8f7-b199c38ca43d",
   "metadata": {},
   "outputs": [],
   "source": [
    "ficw_meta[6]"
   ]
  },
  {
   "cell_type": "code",
   "execution_count": null,
   "id": "ac9bb217-9f88-40b8-b949-1b54ba1e6191",
   "metadata": {},
   "outputs": [],
   "source": [
    "ficw_meta[7]"
   ]
  },
  {
   "cell_type": "markdown",
   "id": "140ee225-8574-4443-a83a-9a55e7818704",
   "metadata": {},
   "source": [
    "\n",
    "### データ処理\n"
   ]
  },
  {
   "cell_type": "code",
   "execution_count": null,
   "id": "f2e715e0-12b8-439e-9630-9687787be9a6",
   "metadata": {},
   "outputs": [],
   "source": [
    "process_family_income_consumption_wealth_survey_data(\n",
    "    api_key=appId,\n",
    ").head(30)"
   ]
  },
  {
   "cell_type": "code",
   "execution_count": null,
   "id": "f71558e9-2d6f-4367-ad3f-20473a93c514",
   "metadata": {},
   "outputs": [],
   "source": []
  },
  {
   "cell_type": "markdown",
   "id": "cfd9a6a9-fdc2-45c8-85aa-2b39b1258284",
   "metadata": {},
   "source": [
    "\n",
    "## 3. 賃金構造基本統計調査\n",
    "https://www.e-stat.go.jp/stat-search/database?page=1&layout=datalist&toukei=00450091&tstat=000001011429&cycle=0&tclass1val=0&metadata=1&data=1\n",
    "厚生労働省が実施する最も詳細な個人レベルの賃金統計です。\n",
    "\n",
    "### データの特徴\n",
    "- **対象**: 常用労働者（10人以上の事業所）\n",
    "- **詳細度**: 年齢×学歴×勤続年数×職種の多変量分析が可能\n",
    "- **データ項目**: 年齢、勤続年数、所定内・超過実労働時間数、現金給与額など\n",
    "\n",
    "### 利用可能なstatsDataId\n",
    "\n",
    "#### 全国データ\n",
    "- **産業・年齢階級別**: `0003425893` - 一般_産業大・中分類_年齢階級別DB\n",
    "\n",
    "#### 都道府県別データ\n",
    "- **都道府県・年齢階級別**: `0003426933` - 一般_都道府県別_年齢階級別DB\n",
    "\n",
    "### 全国データの分析\n"
   ]
  },
  {
   "cell_type": "code",
   "execution_count": null,
   "id": "efdeed8b-55f7-4668-961e-91561ffb84f9",
   "metadata": {},
   "outputs": [],
   "source": [
    "chingin_statsDataId = \"0003425893\"\n",
    "chingin_metainfo = MetaInfoReader(\n",
    "    api_key=appId, \n",
    "    statsDataId=chingin_statsDataId,\n",
    ")\n",
    "chingin_meta = chingin_metainfo.read_class_objs()\n",
    "chingin_metainfo.OVERALL_TOTAL_NUMBER"
   ]
  },
  {
   "cell_type": "markdown",
   "id": "689da09e-ead8-4923-bae3-21c28be85a41",
   "metadata": {},
   "source": [
    "\n",
    "#### メタデータの構造\n",
    "\n",
    "1. **企業規模**: 10人以上、1,000人以上、100～999人、10～99人\n",
    "2. **産業分類**: 109の詳細産業分類\n",
    "3. **性別**: 男女計、男、女\n",
    "4. **年齢階級**: ～19歳、20～24歳、...、70歳～の13区分\n",
    "5. **学歴**: 中学、高校、専門学校、高専・短大、大学、大学院、不明\n",
    "6. **民・公区分**: 民営事業所、民営+公営\n"
   ]
  },
  {
   "cell_type": "code",
   "execution_count": null,
   "id": "8ac3a64b-1d09-43d8-ae21-8a3dd72deadc",
   "metadata": {},
   "outputs": [],
   "source": [
    "chingin_meta[0]"
   ]
  },
  {
   "cell_type": "code",
   "execution_count": null,
   "id": "9175f02a-b586-41af-8fd6-1d79aee42b9b",
   "metadata": {},
   "outputs": [],
   "source": [
    "chingin_meta[1]"
   ]
  },
  {
   "cell_type": "code",
   "execution_count": null,
   "id": "dec751ab-4a38-4d7c-aedd-9b38f37c3bfc",
   "metadata": {},
   "outputs": [],
   "source": [
    "chingin_meta[2][\"meta_dataframe\"]"
   ]
  },
  {
   "cell_type": "code",
   "execution_count": null,
   "id": "14be98f2-0307-42a6-816f-de1eaf01f956",
   "metadata": {},
   "outputs": [],
   "source": [
    "chingin_meta[3]"
   ]
  },
  {
   "cell_type": "code",
   "execution_count": null,
   "id": "528342d6-a9c4-46a9-8c17-3445d57ab032",
   "metadata": {},
   "outputs": [],
   "source": [
    "chingin_meta[4]"
   ]
  },
  {
   "cell_type": "code",
   "execution_count": null,
   "id": "b1c6fbd9-edf3-4a7f-81f2-9f169e18c222",
   "metadata": {},
   "outputs": [],
   "source": [
    "chingin_meta[5]"
   ]
  },
  {
   "cell_type": "code",
   "execution_count": null,
   "id": "bb6b32e6-c8e5-4546-bda0-4854f42c03ce",
   "metadata": {},
   "outputs": [],
   "source": [
    "chingin_meta[6]"
   ]
  },
  {
   "cell_type": "code",
   "execution_count": null,
   "id": "c7091a74-71f5-4956-8c09-76dc1409561c",
   "metadata": {},
   "outputs": [],
   "source": [
    "chingin_meta[7]"
   ]
  },
  {
   "cell_type": "markdown",
   "id": "f8b1b12d-6836-4786-b835-44ce60eea95f",
   "metadata": {},
   "source": [
    "### データ処理"
   ]
  },
  {
   "cell_type": "code",
   "execution_count": null,
   "id": "ed063f1c-146c-4540-a8d1-9345654005b3",
   "metadata": {},
   "outputs": [],
   "source": [
    "chingin_growth_df = process_wage_structure_survey_data(\n",
    "    api_key=appId,\n",
    "    start_age = 15,\n",
    "    end_age = 100,\n",
    "    terminal_start = 0,\n",
    "    terminal_end = 115,\n",
    ")\n",
    "chingin_growth_df"
   ]
  },
  {
   "cell_type": "code",
   "execution_count": null,
   "id": "0e6a8004-4423-41b4-851f-3cf77b3f1855",
   "metadata": {},
   "outputs": [],
   "source": [
    "add_income_multiplier_columns(chingin_growth_df, rate_column='growth_rate_ma').to_csv(\"future_income_estimated_based_on_wage_structure_survey.csv\", index=False)"
   ]
  },
  {
   "cell_type": "code",
   "execution_count": null,
   "id": "63da281a-3cfb-4c5a-933a-8bb0a8c5d0f1",
   "metadata": {},
   "outputs": [],
   "source": []
  },
  {
   "cell_type": "markdown",
   "id": "8f8d25aa-3219-422d-bb94-1a4c69502efa",
   "metadata": {},
   "source": [
    "### 都道府県別データ"
   ]
  },
  {
   "cell_type": "code",
   "execution_count": null,
   "id": "38165c77-33f0-4086-80e1-68d3c39ad05c",
   "metadata": {},
   "outputs": [],
   "source": [
    "chingin_prefecture_statsDataId = \"0003426933\"\n",
    "chingin_prefecture_metainfo = MetaInfoReader(\n",
    "    api_key=appId, \n",
    "    statsDataId=chingin_prefecture_statsDataId,\n",
    ")\n",
    "chingin_prefecture_meta = chingin_prefecture_metainfo.read_class_objs()\n",
    "chingin_prefecture_metainfo.OVERALL_TOTAL_NUMBER"
   ]
  },
  {
   "cell_type": "markdown",
   "id": "fac5c676-742f-4852-8325-183b7c9d0d8c",
   "metadata": {},
   "source": [
    "都道府県別データには47都道府県の詳細な賃金情報が含まれています。"
   ]
  },
  {
   "cell_type": "code",
   "execution_count": null,
   "id": "4fc0a8a0-c704-4d6d-a8b0-735ec66698ca",
   "metadata": {},
   "outputs": [],
   "source": [
    "chingin_prefecture_meta[0]"
   ]
  },
  {
   "cell_type": "code",
   "execution_count": null,
   "id": "0da8deaa-0331-426e-8b9e-20edc05e3a88",
   "metadata": {},
   "outputs": [],
   "source": [
    "chingin_prefecture_meta[1]"
   ]
  },
  {
   "cell_type": "code",
   "execution_count": null,
   "id": "10ea5870-448b-483b-a0c1-594c17d4610a",
   "metadata": {},
   "outputs": [],
   "source": [
    "chingin_prefecture_meta[2]"
   ]
  },
  {
   "cell_type": "code",
   "execution_count": null,
   "id": "b8023655-304f-477b-b9d3-0ea5db3cda50",
   "metadata": {},
   "outputs": [],
   "source": [
    "chingin_prefecture_meta[3]"
   ]
  },
  {
   "cell_type": "code",
   "execution_count": null,
   "id": "2482dd53-2cf6-4825-9871-61ac6e0abedc",
   "metadata": {
    "scrolled": true
   },
   "outputs": [],
   "source": [
    "chingin_prefecture_meta[4]"
   ]
  },
  {
   "cell_type": "code",
   "execution_count": null,
   "id": "2957655c-7d24-4e41-8625-4b108c6cf4eb",
   "metadata": {
    "scrolled": true
   },
   "outputs": [],
   "source": [
    "chingin_prefecture_meta[5]"
   ]
  },
  {
   "cell_type": "code",
   "execution_count": null,
   "id": "ebdf1777-b7e4-4602-bcac-c35c7eb9f86d",
   "metadata": {},
   "outputs": [],
   "source": [
    "chingin_prefecture_meta[6]"
   ]
  },
  {
   "cell_type": "markdown",
   "id": "af084e81-7223-49c5-a8d9-f62df452a447",
   "metadata": {},
   "source": [
    "### データ処理"
   ]
  },
  {
   "cell_type": "code",
   "execution_count": null,
   "id": "70d2b14e-df8a-40ed-969e-dd261e15fceb",
   "metadata": {},
   "outputs": [],
   "source": [
    "process_wage_structure_survey_data_by_prefecture(\n",
    "    api_key=appId\n",
    ").head(30)"
   ]
  },
  {
   "cell_type": "code",
   "execution_count": null,
   "id": "585ae3e1-bc62-4131-9ceb-564d1953ad03",
   "metadata": {},
   "outputs": [],
   "source": []
  },
  {
   "cell_type": "markdown",
   "id": "7b144e54-1598-4d71-b262-6e38b82d3adb",
   "metadata": {},
   "source": [
    "\n",
    "## 4. 国民生活基礎調査\n",
    "\n",
    "厚生労働省が実施する世帯の所得・生活実態調査です。\n",
    "\n",
    "### データの特徴\n",
    "- **実施頻度**: 3年ごと（大規模調査）\n",
    "- **特徴**: 福祉・医療データと組み合わせた分析が可能\n",
    "- **所得データ**: 世帯主年齢別の平均・中央値・分布\n",
    "\n",
    "### 利用可能なstatsDataId\n",
    "\n",
    "#### 主要なデータセット\n",
    "- **基本データ**: `0004021242` - 1世帯当たり平均所得金額・世帯人員1人当たり平均所得金額、世帯主の年齢（10歳階級）・年次別\n",
    "- **詳細データ**: `0004021274` - 平均所得金額・平均世帯人員・平均有業人員、世帯主の年齢（10歳階級）別\n",
    "\n",
    "### メタデータの確認\n"
   ]
  },
  {
   "cell_type": "code",
   "execution_count": null,
   "id": "87cb08dc-7ade-4b3e-85c8-4b4e1d8d94d4",
   "metadata": {},
   "outputs": [],
   "source": [
    "seikatsu_statsDataId = \"0004021242\"\n",
    "seikatsu_metainfo = MetaInfoReader(\n",
    "    api_key=appId, \n",
    "    statsDataId=seikatsu_statsDataId,\n",
    ")\n",
    "seikatsu_meta = seikatsu_metainfo.read_class_objs()\n",
    "seikatsu_metainfo.OVERALL_TOTAL_NUMBER"
   ]
  },
  {
   "cell_type": "code",
   "execution_count": null,
   "id": "a01524a5-5913-445b-bf2d-fc2690dcf612",
   "metadata": {},
   "outputs": [],
   "source": []
  },
  {
   "cell_type": "markdown",
   "id": "43887682-f7c5-4c6f-978d-250998cbfdef",
   "metadata": {},
   "source": [
    "#### 主要項目\n",
    "\n",
    "1. **表章項目**: 1世帯当たり平均所得金額、世帯人員1人当たり平均所得金額\n",
    "2. **年齢階級**: 29歳以下、30～39歳、40～49歳、50～59歳、60～69歳、70歳以上\n",
    "3. **時系列データ**: 1985年から2022年までの長期データ"
   ]
  },
  {
   "cell_type": "code",
   "execution_count": null,
   "id": "8209acaf-8774-44ad-8e13-66ec51204054",
   "metadata": {},
   "outputs": [],
   "source": [
    "seikatsu_meta[0]"
   ]
  },
  {
   "cell_type": "code",
   "execution_count": null,
   "id": "074002ba-89f8-42c4-9872-2d08598f9eb4",
   "metadata": {},
   "outputs": [],
   "source": [
    "seikatsu_meta[1]"
   ]
  },
  {
   "cell_type": "code",
   "execution_count": null,
   "id": "125d1b2d-6e27-462d-8c70-867d52f72ca2",
   "metadata": {},
   "outputs": [],
   "source": [
    "seikatsu_meta[2]"
   ]
  },
  {
   "cell_type": "code",
   "execution_count": null,
   "id": "fdafad9a-84bd-4f3e-9162-ac4c9c2ff109",
   "metadata": {},
   "outputs": [],
   "source": [
    "seikatsu_meta[3]"
   ]
  },
  {
   "cell_type": "markdown",
   "id": "01e717b6-d995-4fe5-b2dd-cdc5bbd06187",
   "metadata": {},
   "source": [
    "### データ処理"
   ]
  },
  {
   "cell_type": "code",
   "execution_count": null,
   "id": "8745a379-9293-4df7-b793-2242d4a46eec",
   "metadata": {},
   "outputs": [],
   "source": [
    "process_living_conditions_survey_data(\n",
    "    api_key=appId\n",
    ").head(30)"
   ]
  },
  {
   "cell_type": "code",
   "execution_count": null,
   "id": "d17ce9e9-9be2-46e8-9412-2f04af76ddc1",
   "metadata": {},
   "outputs": [],
   "source": []
  },
  {
   "cell_type": "markdown",
   "id": "44beef6c-f04b-4f64-b455-3abfab45568f",
   "metadata": {},
   "source": [
    "\n",
    "## 5. 民間給与実態統計調査\n",
    "\n",
    "国税庁が実施する給与所得者の年収実態調査です。\n",
    "\n",
    "### データの特徴\n",
    "- **実施機関**: 国税庁\n",
    "- **対象**: 全国の給与所得者\n",
    "- **データ内容**: 年間給与（所得）の詳細分析\n",
    "- **特徴**: 平均・中央値・分布データ、正規/非正規雇用別分析が可能\n",
    "\n",
    "### 利用可能なstatsDataId\n",
    "\n",
    "#### 主要なデータセット\n",
    "- **全国計表 第10表**: `0004009621` - 事業所規模別及び年齢階層別の給与所得者数・給与額（1年を通じて勤務した給与所得者）（2014年～）\n",
    "- **全国計表 第11表**: `0004009622` - 企業規模別及び年齢階層別の給与所得者数・給与額（1年を通じて勤務した給与所得者）（2014年～）\n",
    "- **全国計表 第12表**: `0004009623` - 業種別及び年齢階層別の給与所得者数・給与額（1年を通じて勤務した給与所得者）（2014年～）\n",
    "- **全国計表 第12表**: `0004009625` - 業種別及び年齢階層別の給与所得者数・給与額（1年を通じて勤務した給与所得者（乙欄適用者を除く））（2014年～）\n",
    "\n"
   ]
  },
  {
   "cell_type": "markdown",
   "id": "c74c8020-87a7-4409-bac5-c73dee3ab9de",
   "metadata": {},
   "source": [
    "\n",
    "## データの統合と活用\n",
    "\n",
    "### 処理済みデータの特徴\n",
    "\n",
    "各処理関数は、以下の共通フォーマットでデータを返します：\n",
    "\n",
    "- **age**: 年齢（15歳から開始）\n",
    "- **income**: 年収（円）\n",
    "- **growth_rate**: 年収の成長率\n",
    "- **growth_rate_ma**: 移動平均された成長率\n",
    "\n",
    "\n",
    "## 注意事項\n",
    "\n",
    "### メタデータの確認の重要性\n",
    "\n",
    "**すべてのメタデータ確認処理は削除しないでください。** これらの処理は以下の理由で重要です：\n",
    "\n",
    "1. **データ構造の理解**: 各調査の項目分類や階層構造を把握\n",
    "2. **適切なパラメータ設定**: API呼び出し時の正しいコード指定\n",
    "3. **データ品質の確保**: 期待するデータが取得できているかの確認\n",
    "4. **再現性の保証**: 分析結果の再現と検証のための記録\n",
    "\n",
    "### API使用時の注意\n",
    "\n",
    "- e-Stat APIには利用制限があります\n",
    "- 大量データ取得時は適切な間隔を空けてください\n",
    "- APIキーは適切に管理してください\n",
    "\n",
    "### データの解釈\n",
    "\n",
    "- 各調査は対象範囲や調査手法が異なります\n",
    "- 複数の調査結果を比較する際は、それぞれの特性を理解してください\n",
    "- 時系列データを扱う際は、調査手法の変更や経済情勢の影響を考慮してください\n",
    "\n",
    "## まとめ\n",
    "\n",
    "このコードは、日本の公的統計データから年齢別収入データを体系的に取得・処理するためのツールです。複数の統計調査を組み合わせることで、より包括的で信頼性の高い年齢別収入分析が可能になります。"
   ]
  },
  {
   "cell_type": "code",
   "execution_count": null,
   "id": "9adcb46e-788f-4e4d-a065-fd21a148a00c",
   "metadata": {},
   "outputs": [],
   "source": []
  }
 ],
 "metadata": {
  "kernelspec": {
   "display_name": "Python 3 (ipykernel)",
   "language": "python",
   "name": "python3"
  },
  "language_info": {
   "codemirror_mode": {
    "name": "ipython",
    "version": 3
   },
   "file_extension": ".py",
   "mimetype": "text/x-python",
   "name": "python",
   "nbconvert_exporter": "python",
   "pygments_lexer": "ipython3",
   "version": "3.12.10"
  }
 },
 "nbformat": 4,
 "nbformat_minor": 5
}
