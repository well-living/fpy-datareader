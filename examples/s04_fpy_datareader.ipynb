{
 "cells": [
  {
   "cell_type": "markdown",
   "id": "2599d27e-9622-4d08-bdaa-56bc0b19a36e",
   "metadata": {},
   "source": [
    "| 調査名                         | 実施機関       | データの種類             | 年齢別情報 | 備考                                                             |\n",
    "|------------------------------|----------------|--------------------------|------------|------------------------------------------------------------------|\n",
    "| 賃金構造基本統計調査             | 厚生労働省       | 賃金（所定内・外、賞与など） | ◎ あり      | 最も詳細な個人ベースの賃金統計。年齢×学歴×勤続年数×職種など多変量分析可。     |\n",
    "| 民間給与実態統計調査             | 国税庁          | 年間給与（所得）          | ◎ あり      | 全国の給与所得者の年収実態。平均・中央値・分布あり。正規/非正規別も可。         |\n",
    "| 毎月勤労統計調査                 | 厚生労働省       | 月次の給与・労働時間       | ◯ 一部あり   | 年報などで年齢別給与も公表。短期の変化や景気動向把握に向く。                  |\n",
    "| 家計調査                       | 総務省統計局     | 世帯の実収入・支出        | ◯ あり      | 勤労者世帯の世帯主年齢別の平均月収がわかる。世帯単位のデータ。                |\n",
    "| 全国家計構造調査（旧・全国消費実態調査） | 総務省統計局     | 所得・支出・貯蓄・負債等    | ◯ あり      | 5年ごと実施。世帯主年齢別に詳細な所得内訳がわかる。                           |\n",
    "| 国民生活基礎調査                 | 厚生労働省       | 世帯の所得・生活実態       | ◯ あり      | 世帯主年齢別の所得平均・中央値・分布あり。福祉・医療と併せた分析が可能。         |\n",
    "| 就業構造基本調査                 | 総務省統計局     | 職業・就業形態・月収階級等  | △（金額なし、階級）| 月収階級別の年齢分布あり。職種・雇用形態とのクロス集計が可能。                  |\n",
    "| 労働力調査                     | 総務省統計局     | 雇用状況（就業・失業）     | ◯（人数のみ）| 年齢別の就業者数・非労働力人口は把握できるが、賃金金額はなし。                  |\n",
    "\n",
    "\n",
    "\n",
    "国民生活基礎調査\n",
    "１世帯当たり平均所得金額－世帯人員１人当たり平均所得金額，世帯主の年齢（10歳階級）・年次別　\n",
    "0004021242\n",
    "平均所得金額－平均世帯人員－平均有業人員，世帯主の年齢（10歳階級）別\n",
    "0004021274\n",
    "\n",
    "家計調査\n",
    "二人以上の世帯\n",
    "用途分類（世帯主の年齢階級別）\n",
    "0002070010\n",
    "用途分類（世帯主の年齢階級別）　年次\n",
    "0002070011\n",
    "\n",
    "単身世帯\n",
    "用途分類（年齢階級別）\n",
    "0003000795\n",
    "0002190004\n",
    "\n",
    "全国家計構造調査\n",
    "世帯の種類(3区分)，世帯区分(4区分)，世帯主の性別(3区分)，世帯主の年齢階級(32区分)，所得構成(44区分)別１世帯当たり年間収入額－全国\n",
    "0003426498\n",
    "世帯の種類(3区分)，世帯主の勤め先企業規模(20区分)，世帯主の年齢階級(32区分)，所得構成(44区分)別１世帯当たり年間収入額－全国\n",
    "0003426474\n",
    "世帯人員(8区分)，有業人員(7区分)，世帯主の年齢階級(32区分)，所得構成(44区分)別１世帯当たり年間収入額－全国\n",
    "0003426475\n",
    "世帯の種類(3区分)，世帯主の年齢階級(32区分)，世帯主の職業(17区分)，所得構成(44区分)別１世帯当たり年間収入額－全国\n",
    "0003426476\n",
    "世帯の種類(3区分)，世帯主の年齢階級(32区分)，公的年金・恩給受給額階級(14区分)，所得構成(44区分)別１世帯当たり年間収入額－全国\n",
    "0003426478\n",
    "世帯の種類(3区分)，世帯主の年齢階級(32区分)，年間収入階級(44区分)，所得構成(44区分)別１世帯当たり年間収入額－全国\n",
    "0003426483\n",
    "世帯の種類(3区分)，世帯主の年齢階級(32区分)，年間収入十分位階級(13区分)，所得構成(44区分)別１世帯当たり年間収入額－全国\n",
    "0003426484\n",
    "世帯の種類(3区分)，世帯主の年齢階級(32区分)，年間収入五分位階級(6区分)，所得構成(44区分)別１世帯当たり年間収入額－全国\n",
    "0003426485\n",
    "世帯主の年齢階級(32区分)，有業人員(7区分)，高齢者世帯類型(21区分)，所得構成(44区分)別１世帯当たり年間収入額－全国\n",
    "0003426489\n",
    "世帯主の年齢階級(32区分)，世帯主の従業上の地位(11区分)，世帯主の配偶者の有無(30区分)，所得構成(44区分)別１世帯当たり年間収入額－全国\n",
    "0003426490\n",
    "世帯主の年齢階級(32区分)，未婚の子供の数(4区分)，世帯主の配偶者の有無(30区分)，所得構成(44区分)別１世帯当たり年間収入額－全国\n",
    "0003426495\n",
    "世帯主の年齢階級(32区分)，有業人員(7区分)，非就業者の有無(40区分)，所得構成(44区分)別１世帯当たり年間収入額－全国\n",
    "0003426496\n",
    "\n",
    "\n",
    "民間給与\n",
    "全国計表　第10表　事業所規模別及び年齢階層別の給与所得者数・給与額　（1年を通じて勤務した給与所得者）　（2014年～）\n",
    "0004009621\n",
    "全国計表　第11表　企業規模別及び年齢階層別の給与所得者数・給与額　（1年を通じて勤務した給与所得者）　（2014年～）\n",
    "0004009622\n",
    "全国計表　第12表　業種別及び年齢階層別の給与所得者数・給与額　（1年を通じて勤務した給与所得者）　（2014年～）\n",
    "0004009623\n",
    "全国計表　第12表　業種別及び年齢階層別の給与所得者数・給与額　（1年を通じて勤務した給与所得者（乙欄適用者を除く））（2014年～）\n",
    "0004009625\n",
    "\n",
    "賃金構造基本統計調査\n",
    "https://www.e-stat.go.jp/stat-search/database?page=1&layout=datalist&toukei=00450091&tstat=000001011429&cycle=0&tclass1val=0&metadata=1&data=1\n",
    "一般_産業大・中分類_年齢階級別DB\n",
    "0003425893\n",
    "一般_役職_年齢階級別DB\n",
    "0003426253\n",
    "一般_都道府県別_年齢階級別DB\n",
    "0003426933\n",
    "\n"
   ]
  },
  {
   "cell_type": "code",
   "execution_count": null,
   "id": "a001270a-4546-458e-afc8-678494e8a8dd",
   "metadata": {},
   "outputs": [],
   "source": [
    "import os\n",
    "import sys\n",
    "from pathlib import Path\n",
    "import requests\n",
    "import pandas as pd\n",
    "from dotenv import load_dotenv\n",
    "\n",
    "# 表示設定\n",
    "pd.set_option('display.max_columns', None)\n",
    "pd.set_option('display.width', None)\n",
    "pd.set_option('display.max_colwidth', 50)"
   ]
  },
  {
   "cell_type": "code",
   "execution_count": null,
   "id": "25b15b9a-0bbd-4111-85e6-8214b84ac346",
   "metadata": {},
   "outputs": [],
   "source": [
    "# パッケージのパスを追加（exampleフォルダから一つ上の階層のfpy_datareaderを参照）\n",
    "sys.path.append(os.path.join(os.path.dirname(os.getcwd()), 'fpy_datareader'))"
   ]
  },
  {
   "cell_type": "code",
   "execution_count": null,
   "id": "a7279eec-3514-482c-a962-986cd9b8ce9c",
   "metadata": {},
   "outputs": [],
   "source": [
    "from jpy_datareader.estat import MetaInfoReader, StatsDataReader"
   ]
  },
  {
   "cell_type": "code",
   "execution_count": null,
   "id": "8c41055f-977b-43c2-91ea-110537260fbe",
   "metadata": {},
   "outputs": [],
   "source": [
    "# APIキーの読み込み\n",
    "load_dotenv()\n",
    "appId = os.getenv(\"ESTAT_APP_ID\")"
   ]
  },
  {
   "cell_type": "markdown",
   "id": "e84cab1f-0ea9-422e-9e48-9244ffd9908b",
   "metadata": {},
   "source": [
    "## 家計調査"
   ]
  },
  {
   "cell_type": "code",
   "execution_count": null,
   "id": "69523918-5b47-4ce9-a29a-6965dc16d15c",
   "metadata": {},
   "outputs": [],
   "source": [
    "kakei_setai_statsDataId = \"0002070011\"\n",
    "kakei_setai_metainfo = MetaInfoReader(\n",
    "    api_key=appId, \n",
    "    statsDataId=kakei_setai_statsDataId,\n",
    ")\n",
    "kakei_setai_meta = kakei_setai_metainfo.read_class_objs()\n",
    "kakei_setai_metainfo.OVERALL_TOTAL_NUMBER"
   ]
  },
  {
   "cell_type": "code",
   "execution_count": null,
   "id": "3e7c33c4-b764-4db8-96cd-dee5b2cf5288",
   "metadata": {},
   "outputs": [],
   "source": [
    "kakei_setai_meta[0]"
   ]
  },
  {
   "cell_type": "code",
   "execution_count": null,
   "id": "2d5a840b-aca3-4c31-a6fa-d0f13c8ddb82",
   "metadata": {},
   "outputs": [],
   "source": [
    "kakei_setai_meta[1]['meta_dataframe']"
   ]
  },
  {
   "cell_type": "code",
   "execution_count": null,
   "id": "2f6b338f-6061-4939-9126-20def15ee342",
   "metadata": {},
   "outputs": [],
   "source": [
    "kakei_setai_meta[2]['meta_dataframe']"
   ]
  },
  {
   "cell_type": "code",
   "execution_count": null,
   "id": "e3f9ec55-143e-45e9-993e-ce8d5adc2ad4",
   "metadata": {},
   "outputs": [],
   "source": [
    "kakei_setai_meta[3]"
   ]
  },
  {
   "cell_type": "code",
   "execution_count": null,
   "id": "9d924456-e755-410c-afec-2c8ee46c63aa",
   "metadata": {},
   "outputs": [],
   "source": [
    "kakei_setai_meta[4]"
   ]
  },
  {
   "cell_type": "code",
   "execution_count": null,
   "id": "ecf0affa-8421-4f01-bc5d-8b3b6dc70038",
   "metadata": {},
   "outputs": [],
   "source": [
    "kakei_setai_meta[5]"
   ]
  },
  {
   "cell_type": "code",
   "execution_count": null,
   "id": "d4c974c2-6ba3-4438-84db-8879c30c7333",
   "metadata": {},
   "outputs": [],
   "source": [
    "#  世帯主の年齢階級ごとの家計項目のデータを取得するための関数を用意\n",
    "def get_filtered_statsdata(\n",
    "        app_id: str, stats_id: str, cat01: str, value_name: str, yyyy = 2024\n",
    "    ) -> pd.DataFrame:\n",
    "    params = {\n",
    "        \"cdCat01\": cat01,\n",
    "        \"cdCat02\": \"04\",\n",
    "        \"cdTime\": f\"{yyyy}000000\",\n",
    "    }\n",
    "    data = StatsDataReader(\n",
    "        api_key=appId,\n",
    "        statsDataId=stats_id,\n",
    "        **params\n",
    "    )\n",
    "    value = data.read()\n",
    "    cols = [\"世帯主の年齢階級\", \"値\"]\n",
    "    df = value.loc[~value[\"世帯主の年齢階級\"].isin([\"平均\", \"65歳以上\"]), cols]\n",
    "    return df.rename(columns={\"値\": value_name})"
   ]
  },
  {
   "cell_type": "code",
   "execution_count": null,
   "id": "f66ad500-1268-4f30-a9a2-b3ab3b5a2fc1",
   "metadata": {},
   "outputs": [],
   "source": [
    "yyyy = 2024\n",
    "age_df = get_filtered_statsdata(appId, kakei_setai_statsDataId, \"009\", \"世帯主の年齢\", 2024)\n",
    "income_df = get_filtered_statsdata(appId, kakei_setai_statsDataId, \"233\", \"可処分所得\", 2024)"
   ]
  },
  {
   "cell_type": "code",
   "execution_count": null,
   "id": "b1d01d34-7ef5-48a4-813a-2e2b1f293330",
   "metadata": {},
   "outputs": [],
   "source": [
    "on = \"世帯主の年齢階級\"\n",
    "fie_df = age_df.merge(income_df, on=on)"
   ]
  },
  {
   "cell_type": "code",
   "execution_count": null,
   "id": "cb09f83a-4845-43f5-9495-5e0f66adc371",
   "metadata": {},
   "outputs": [],
   "source": [
    "fie_df[[\"世帯主の年齢\", \"可処分所得\"]]"
   ]
  },
  {
   "cell_type": "code",
   "execution_count": null,
   "id": "9818975d-cf1a-4be5-8e29-ba56a832afc7",
   "metadata": {},
   "outputs": [],
   "source": [
    "interpolate_age_income(fie_df[[\"世帯主の年齢\", \"可処分所得\"]], include_growth_rate=True)"
   ]
  },
  {
   "cell_type": "code",
   "execution_count": null,
   "id": "36d0c20e-6ea5-4964-a479-aec7bf3ec4ed",
   "metadata": {},
   "outputs": [],
   "source": [
    "import numpy as np\n",
    "import pandas as pd\n",
    "from scipy.interpolate import CubicSpline\n",
    "\n",
    "def interpolate_age_income(\n",
    "        data, \n",
    "        start_age=20, \n",
    "        end_age=65, \n",
    "        method='linear', \n",
    "        extrapolation='constant', \n",
    "        terminal_start=0, \n",
    "        terminal_end=100,\n",
    "        include_growth_rate=False\n",
    "    ):\n",
    "    \"\"\"\n",
    "    年齢別所得データを1歳刻みで補間するテーブルに変換する関数\n",
    "    \n",
    "    Parameters\n",
    "    ----------\n",
    "    data : pandas.DataFrame or list of lists or numpy.ndarray\n",
    "        年齢と所得のデータ。1列目が年齢、2列目が所得\n",
    "    start_age : int, default 20\n",
    "        補間する最小年齢\n",
    "    end_age : int, default 65\n",
    "        補間する最大年齢\n",
    "    method : str, default 'linear'\n",
    "        補間方法。'linear'（線形補間）または 'cubic_spline'（3次スプライン補間）\n",
    "    extrapolation : str, default 'constant'\n",
    "        範囲外補間方法。'constant'（同じ値が継続）または 'terminal'（ターミナル時点使用）\n",
    "    terminal_start : int, default 0\n",
    "        ターミナル時点の開始年齢（extrapolation='terminal'の場合）\n",
    "    terminal_end : int, default 100\n",
    "        ターミナル時点の終了年齢（extrapolation='terminal'の場合）\n",
    "    include_growth_rate : bool, default False\n",
    "        成長率の列を追加するかどうか\n",
    "    \n",
    "    Returns\n",
    "    -------\n",
    "    pandas.DataFrame\n",
    "        年齢と所得の補間されたテーブル\n",
    "        include_growth_rate=Trueの場合、成長率の列も追加される\n",
    "        \n",
    "    Examples\n",
    "    --------\n",
    "    >>> data = [\n",
    "            [31.0, 495530],\n",
    "            [37.1, 533352],\n",
    "            [42.0, 564760],\n",
    "            [47.1, 576439],\n",
    "            [51.9, 561118],\n",
    "            [56.9, 579763],\n",
    "            [61.9, 419871],\n",
    "            [66.9, 424190],\n",
    "            [73.2, 369543]\n",
    "        ]\n",
    "    >>> result = interpolate_age_income(data, 28, 75, method='linear', extrapolation='constant')\n",
    "    >>> print(result.head(10))\n",
    "           age         income\n",
    "        0   28  495530.000000\n",
    "        1   29  495530.000000\n",
    "        2   30  495530.000000\n",
    "        3   31  495530.000000\n",
    "        4   32  501730.327869\n",
    "        5   33  507930.655738\n",
    "        6   34  514130.983607\n",
    "        7   35  520331.311475\n",
    "        8   36  526531.639344\n",
    "        9   37  532731.967213\n",
    "        \n",
    "    >>> # 成長率付きの例\n",
    "    >>> result_with_growth = interpolate_age_income(data, 28, 40, include_growth_rate=True)\n",
    "    >>> print(result_with_growth.head(10))\n",
    "           age         income  growth_rate\n",
    "        0   28  495530.000000     0.000000\n",
    "        1   29  495530.000000     0.000000\n",
    "        2   30  495530.000000     0.000000\n",
    "        3   31  495530.000000     0.012516\n",
    "        4   32  501730.327869     0.012353\n",
    "        5   33  507930.655738     0.012191\n",
    "        6   34  514130.983607     0.012028\n",
    "        7   35  520331.311475     0.011866\n",
    "        8   36  526531.639344     0.011765\n",
    "        9   37  532731.967213     0.011664\n",
    "        \n",
    "    Notes\n",
    "    -----\n",
    "    - 所得が0円を下回る場合は0円に設定される\n",
    "    - 入力データは年齢順にソートされる\n",
    "    - 線形補間では最も近い2点間の線分から値を計算\n",
    "    - 3次スプライン補間では全体のデータから滑らかな曲線を作成\n",
    "    - 成長率は前年からの変化率を浮動小数点数で表示（例：0.05 = 5%の成長）\n",
    "    - 最初の年齢の成長率はNaNとなる（前年データが存在しないため）\n",
    "    \"\"\"\n",
    "    \n",
    "    # データの前処理\n",
    "    if isinstance(data, pd.DataFrame):\n",
    "        ages = data.iloc[:, 0].values\n",
    "        incomes = data.iloc[:, 1].values\n",
    "    elif isinstance(data, (list, np.ndarray)):\n",
    "        data_array = np.array(data)\n",
    "        ages = data_array[:, 0]\n",
    "        incomes = data_array[:, 1]\n",
    "    else:\n",
    "        raise ValueError(\"データ形式が不正です。DataFrame、list、またはndarrayを使用してください\")\n",
    "    \n",
    "    # 年齢順でソート\n",
    "    sort_idx = np.argsort(ages)\n",
    "    ages = ages[sort_idx]\n",
    "    incomes = incomes[sort_idx]\n",
    "    \n",
    "    # 補間する年齢範囲を作成\n",
    "    target_ages = np.arange(start_age, end_age + 1)\n",
    "    \n",
    "    # 範囲外処理のためのデータ拡張\n",
    "    if extrapolation == 'terminal':\n",
    "        # ターミナル時点を追加\n",
    "        extended_ages = [terminal_start]\n",
    "        extended_incomes = [0]\n",
    "        \n",
    "        # 既存データを追加\n",
    "        extended_ages.extend(ages)\n",
    "        extended_incomes.extend(incomes)\n",
    "        \n",
    "        # 終了ターミナル時点を追加\n",
    "        extended_ages.append(terminal_end)\n",
    "        extended_incomes.append(0)\n",
    "        \n",
    "        ages = np.array(extended_ages)\n",
    "        incomes = np.array(extended_incomes)\n",
    "    \n",
    "    # 補間の実行\n",
    "    if method == 'linear':\n",
    "        interpolated_incomes = np.interp(target_ages, ages, incomes)\n",
    "    elif method == 'cubic_spline':\n",
    "        # 3次スプライン補間\n",
    "        cs = CubicSpline(ages, incomes, extrapolate=True)\n",
    "        interpolated_incomes = cs(target_ages)\n",
    "    else:\n",
    "        raise ValueError(\"methodは'linear'または'cubic_spline'を指定してください\")\n",
    "    \n",
    "    # 範囲外の値を処理（constant extrapolationの場合）\n",
    "    if extrapolation == 'constant':\n",
    "        # 最小年齢より小さい場合\n",
    "        mask_below = target_ages < ages.min()\n",
    "        interpolated_incomes[mask_below] = incomes[0]\n",
    "        \n",
    "        # 最大年齢より大きい場合\n",
    "        mask_above = target_ages > ages.max()\n",
    "        interpolated_incomes[mask_above] = incomes[-1]\n",
    "    \n",
    "    # 所得が0円を下回らないように調整\n",
    "    interpolated_incomes = np.maximum(interpolated_incomes, 0)\n",
    "    \n",
    "    # 結果をDataFrameで作成\n",
    "    result_df = pd.DataFrame({\n",
    "        'age': target_ages,\n",
    "        'income': interpolated_incomes\n",
    "    })\n",
    "    \n",
    "    # 成長率の計算と追加\n",
    "    if include_growth_rate:\n",
    "        # pct_changeを使用して前年比成長率を計算（浮動小数点数形式）\n",
    "        growth_rate = result_df['income'].pct_change().shift(-1)\n",
    "        result_df['growth_rate'] = growth_rate\n",
    "    \n",
    "    return result_df"
   ]
  },
  {
   "cell_type": "code",
   "execution_count": null,
   "id": "f74791af-6cc4-49cc-bf03-731116dc8a92",
   "metadata": {},
   "outputs": [],
   "source": [
    "\n",
    "# サンプルデータ\n",
    "sample_data = [\n",
    "    [31.0, 495530],\n",
    "    [37.1, 533352],\n",
    "    [42.0, 564760],\n",
    "    [47.1, 576439],\n",
    "    [51.9, 561118],\n",
    "    [56.9, 579763],\n",
    "    [61.9, 419871],\n",
    "    [66.9, 424190],\n",
    "    [73.2, 369543]\n",
    "]\n",
    "\n",
    "print(\"=== 線形補間（一定値外挿）の例 ===\")\n",
    "result1 = interpolate_age_income(sample_data, 28, 75, \n",
    "                               method='linear', extrapolation='constant')\n",
    "print(result1.head(10))\n",
    "print(\"...\")\n",
    "print(result1.tail(5))\n",
    "\n",
    "print(\"\\n=== 3次スプライン補間（ターミナル時点外挿）の例 ===\")\n",
    "result2 = interpolate_age_income(sample_data, 25, 80, \n",
    "                               method='cubic_spline', extrapolation='terminal',\n",
    "                               terminal_start=0, terminal_end=100)\n",
    "print(result2.head(10))\n",
    "print(\"...\")\n",
    "print(result2.tail(5))\n",
    "\n",
    "print(\"\\n=== 33歳の線形補間確認 ===\")\n",
    "# 33歳は31.0歳(495530円)と37.1歳(533352円)の間\n",
    "age_diff = 37.1 - 31.0\n",
    "income_diff = 533352 - 495530\n",
    "target_age = 33.0\n",
    "expected_33 = 495530 + (target_age - 31.0) * income_diff / age_diff\n",
    "\n",
    "result3 = interpolate_age_income(sample_data, 33, 33, method='linear')\n",
    "actual_33 = result3.iloc[0]['income']\n",
    "\n",
    "print(f\"期待値: {expected_33}円\")\n",
    "print(f\"実際の値: {actual_33}円\")\n",
    "print(f\"差: {abs(expected_33 - actual_33):.2f}円\")"
   ]
  },
  {
   "cell_type": "code",
   "execution_count": null,
   "id": "0bf4b175-b8a5-4fb6-aadb-af526c30cc31",
   "metadata": {},
   "outputs": [],
   "source": [
    "kakei_tanshin_statsDataId = \"0002190004\"\n",
    "kakei_tanshin_metainfo = MetaInfoReader(\n",
    "    api_key=appId, \n",
    "    statsDataId=kakei_tanshin_statsDataId,\n",
    "    has_lv_hierarchy=True,  # 階層情報も取得\n",
    ")\n",
    "kakei_tanshin_meta = kakei_tanshin_metainfo.read_class_objs()\n",
    "kakei_tanshin_metainfo.OVERALL_TOTAL_NUMBER"
   ]
  },
  {
   "cell_type": "code",
   "execution_count": null,
   "id": "2e78d13b-5595-452c-995e-f97e40fc117a",
   "metadata": {},
   "outputs": [],
   "source": [
    "kakei_tanshin_statsdata = StatsDataReader(\n",
    "    api_key=appId, \n",
    "    statsDataId=kakei_tanshin_statsDataId, \n",
    ")\n",
    "kakei_tanshin_value = kakei_tanshin_statsdata.read()"
   ]
  },
  {
   "cell_type": "code",
   "execution_count": null,
   "id": "395b34b7-369c-4566-89d3-abc41d266255",
   "metadata": {},
   "outputs": [],
   "source": [
    "kakei_tanshin_value"
   ]
  },
  {
   "cell_type": "code",
   "execution_count": null,
   "id": "763839fd-8c02-4daa-b61d-e4848a8f21f3",
   "metadata": {},
   "outputs": [],
   "source": []
  },
  {
   "cell_type": "code",
   "execution_count": null,
   "id": "4aeb25d9-7795-4f28-b33e-65b0d830aa08",
   "metadata": {},
   "outputs": [],
   "source": []
  },
  {
   "cell_type": "code",
   "execution_count": null,
   "id": "9c804338-229c-4244-8f56-f1756a85ecf2",
   "metadata": {},
   "outputs": [],
   "source": []
  },
  {
   "cell_type": "code",
   "execution_count": null,
   "id": "9e4f6b53-619a-4aef-ab4e-4e5608337cb2",
   "metadata": {},
   "outputs": [],
   "source": []
  },
  {
   "cell_type": "code",
   "execution_count": null,
   "id": "3ab1c43e-0b17-4cf7-9459-42bc6a56d38c",
   "metadata": {},
   "outputs": [],
   "source": []
  },
  {
   "cell_type": "markdown",
   "id": "956ce4df-70dd-4626-b11c-1a02b7d5f7d8",
   "metadata": {},
   "source": [
    "## 全国家計構造調査"
   ]
  },
  {
   "cell_type": "code",
   "execution_count": null,
   "id": "86e0ea56-02f6-464a-a9d2-0a4ab3afa66d",
   "metadata": {},
   "outputs": [],
   "source": []
  },
  {
   "cell_type": "markdown",
   "id": "cfd9a6a9-fdc2-45c8-85aa-2b39b1258284",
   "metadata": {},
   "source": [
    "## 賃金構造基本調査"
   ]
  },
  {
   "cell_type": "code",
   "execution_count": null,
   "id": "38165c77-33f0-4086-80e1-68d3c39ad05c",
   "metadata": {},
   "outputs": [],
   "source": [
    "chingin_statsDataId = \"0003426933\"\n",
    "chingin_metainfo = MetaInfoReader(\n",
    "    api_key=appId, \n",
    "    statsDataId=chingin_statsDataId,\n",
    "    has_lv_hierarchy=True,  # 階層情報も取得\n",
    ")\n",
    "chingin_meta = chingin_metainfo.read_class_objs()\n",
    "chingin_metainfo.OVERALL_TOTAL_NUMBER"
   ]
  },
  {
   "cell_type": "code",
   "execution_count": null,
   "id": "4fc0a8a0-c704-4d6d-a8b0-735ec66698ca",
   "metadata": {},
   "outputs": [],
   "source": [
    "chingin_meta[0]"
   ]
  },
  {
   "cell_type": "code",
   "execution_count": null,
   "id": "0da8deaa-0331-426e-8b9e-20edc05e3a88",
   "metadata": {},
   "outputs": [],
   "source": [
    "chingin_meta[1]"
   ]
  },
  {
   "cell_type": "code",
   "execution_count": null,
   "id": "10ea5870-448b-483b-a0c1-594c17d4610a",
   "metadata": {},
   "outputs": [],
   "source": [
    "chingin_meta[2]"
   ]
  },
  {
   "cell_type": "code",
   "execution_count": null,
   "id": "b8023655-304f-477b-b9d3-0ea5db3cda50",
   "metadata": {},
   "outputs": [],
   "source": [
    "chingin_meta[3]"
   ]
  },
  {
   "cell_type": "code",
   "execution_count": null,
   "id": "2482dd53-2cf6-4825-9871-61ac6e0abedc",
   "metadata": {
    "scrolled": true
   },
   "outputs": [],
   "source": [
    "chingin_meta[4]"
   ]
  },
  {
   "cell_type": "code",
   "execution_count": null,
   "id": "2957655c-7d24-4e41-8625-4b108c6cf4eb",
   "metadata": {
    "scrolled": true
   },
   "outputs": [],
   "source": [
    "chingin_meta[5]"
   ]
  },
  {
   "cell_type": "markdown",
   "id": "7b144e54-1598-4d71-b262-6e38b82d3adb",
   "metadata": {},
   "source": [
    "## 国民生活基礎調査"
   ]
  },
  {
   "cell_type": "code",
   "execution_count": null,
   "id": "87cb08dc-7ade-4b3e-85c8-4b4e1d8d94d4",
   "metadata": {},
   "outputs": [],
   "source": [
    "# 国勢調査の統計表IDを使用（例）\n",
    "statsDataId = \"0004021242\"  # 国勢調査：男女別人口及び世帯の種類別世帯数\n",
    "\n",
    "print(f\"=== 統計表ID: {statsDataId} のメタ情報取得 ===\")\n",
    "\n",
    "# MetaInfoReaderインスタンスの作成\n",
    "metainfo = MetaInfoReader(\n",
    "    api_key=appId, \n",
    "    statsDataId=statsDataId,\n",
    "    has_lv_hierarchy=True,  # 階層情報も取得\n",
    ")"
   ]
  },
  {
   "cell_type": "code",
   "execution_count": null,
   "id": "a01524a5-5913-445b-bf2d-fc2690dcf612",
   "metadata": {},
   "outputs": [],
   "source": [
    "meta = metainfo.read_class_objs()"
   ]
  },
  {
   "cell_type": "code",
   "execution_count": null,
   "id": "8209acaf-8774-44ad-8e13-66ec51204054",
   "metadata": {},
   "outputs": [],
   "source": [
    "meta[0]"
   ]
  },
  {
   "cell_type": "code",
   "execution_count": null,
   "id": "074002ba-89f8-42c4-9872-2d08598f9eb4",
   "metadata": {},
   "outputs": [],
   "source": [
    "meta[1]['meta_dataframe']"
   ]
  },
  {
   "cell_type": "code",
   "execution_count": null,
   "id": "125d1b2d-6e27-462d-8c70-867d52f72ca2",
   "metadata": {},
   "outputs": [],
   "source": [
    "meta[2]"
   ]
  },
  {
   "cell_type": "code",
   "execution_count": null,
   "id": "fdafad9a-84bd-4f3e-9162-ac4c9c2ff109",
   "metadata": {},
   "outputs": [],
   "source": [
    "meta[3]"
   ]
  },
  {
   "cell_type": "code",
   "execution_count": null,
   "id": "95d55f63-a4f4-4795-ba05-445039fc75ab",
   "metadata": {},
   "outputs": [],
   "source": [
    "meta[4]"
   ]
  },
  {
   "cell_type": "code",
   "execution_count": null,
   "id": "dc649c37-0750-40b9-bd16-20860348d964",
   "metadata": {},
   "outputs": [],
   "source": []
  }
 ],
 "metadata": {
  "kernelspec": {
   "display_name": "Python 3 (ipykernel)",
   "language": "python",
   "name": "python3"
  },
  "language_info": {
   "codemirror_mode": {
    "name": "ipython",
    "version": 3
   },
   "file_extension": ".py",
   "mimetype": "text/x-python",
   "name": "python",
   "nbconvert_exporter": "python",
   "pygments_lexer": "ipython3",
   "version": "3.12.10"
  }
 },
 "nbformat": 4,
 "nbformat_minor": 5
}
