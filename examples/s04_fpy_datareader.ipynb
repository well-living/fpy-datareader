{
 "cells": [
  {
   "cell_type": "markdown",
   "id": "2599d27e-9622-4d08-bdaa-56bc0b19a36e",
   "metadata": {},
   "source": [
    "| 調査名                         | 実施機関       | データの種類             | 年齢別情報 | 備考                                                             |\n",
    "|------------------------------|----------------|--------------------------|------------|------------------------------------------------------------------|\n",
    "| 賃金構造基本統計調査             | 厚生労働省       | 賃金（所定内・外、賞与など） | ◎ あり      | 最も詳細な個人ベースの賃金統計。年齢×学歴×勤続年数×職種など多変量分析可。     |\n",
    "| 民間給与実態統計調査             | 国税庁          | 年間給与（所得）          | ◎ あり      | 全国の給与所得者の年収実態。平均・中央値・分布あり。正規/非正規別も可。         |\n",
    "| 毎月勤労統計調査                 | 厚生労働省       | 月次の給与・労働時間       | ◯ 一部あり   | 年報などで年齢別給与も公表。短期の変化や景気動向把握に向く。                  |\n",
    "| 家計調査                       | 総務省統計局     | 世帯の実収入・支出        | ◯ あり      | 勤労者世帯の世帯主年齢別の平均月収がわかる。世帯単位のデータ。                |\n",
    "| 全国家計構造調査（旧・全国消費実態調査） | 総務省統計局     | 所得・支出・貯蓄・負債等    | ◯ あり      | 5年ごと実施。世帯主年齢別に詳細な所得内訳がわかる。                           |\n",
    "| 国民生活基礎調査                 | 厚生労働省       | 世帯の所得・生活実態       | ◯ あり      | 世帯主年齢別の所得平均・中央値・分布あり。福祉・医療と併せた分析が可能。         |\n",
    "| 就業構造基本調査                 | 総務省統計局     | 職業・就業形態・月収階級等  | △（金額なし、階級）| 月収階級別の年齢分布あり。職種・雇用形態とのクロス集計が可能。                  |\n",
    "| 労働力調査                     | 総務省統計局     | 雇用状況（就業・失業）     | ◯（人数のみ）| 年齢別の就業者数・非労働力人口は把握できるが、賃金金額はなし。                  |\n",
    "\n",
    "\n",
    "\n",
    "国民生活基礎調査\n",
    "１世帯当たり平均所得金額－世帯人員１人当たり平均所得金額，世帯主の年齢（10歳階級）・年次別　\n",
    "0004021242\n",
    "平均所得金額－平均世帯人員－平均有業人員，世帯主の年齢（10歳階級）別\n",
    "0004021274\n",
    "\n",
    "家計調査\n",
    "二人以上の世帯\n",
    "用途分類（世帯主の年齢階級別）\n",
    "0002070010\n",
    "用途分類（世帯主の年齢階級別）　年次\n",
    "0002070011\n",
    "\n",
    "単身世帯\n",
    "用途分類（年齢階級別）\n",
    "0003000795\n",
    "0002190004\n",
    "\n",
    "全国家計構造調査\n",
    "世帯の種類(3区分)，世帯区分(4区分)，世帯主の性別(3区分)，世帯主の年齢階級(32区分)，所得構成(44区分)別１世帯当たり年間収入額－全国\n",
    "0003426498\n",
    "世帯の種類(3区分)，世帯主の勤め先企業規模(20区分)，世帯主の年齢階級(32区分)，所得構成(44区分)別１世帯当たり年間収入額－全国\n",
    "0003426474\n",
    "世帯人員(8区分)，有業人員(7区分)，世帯主の年齢階級(32区分)，所得構成(44区分)別１世帯当たり年間収入額－全国\n",
    "0003426475\n",
    "世帯の種類(3区分)，世帯主の年齢階級(32区分)，世帯主の職業(17区分)，所得構成(44区分)別１世帯当たり年間収入額－全国\n",
    "0003426476\n",
    "世帯の種類(3区分)，世帯主の年齢階級(32区分)，公的年金・恩給受給額階級(14区分)，所得構成(44区分)別１世帯当たり年間収入額－全国\n",
    "0003426478\n",
    "世帯の種類(3区分)，世帯主の年齢階級(32区分)，年間収入階級(44区分)，所得構成(44区分)別１世帯当たり年間収入額－全国\n",
    "0003426483\n",
    "世帯の種類(3区分)，世帯主の年齢階級(32区分)，年間収入十分位階級(13区分)，所得構成(44区分)別１世帯当たり年間収入額－全国\n",
    "0003426484\n",
    "世帯の種類(3区分)，世帯主の年齢階級(32区分)，年間収入五分位階級(6区分)，所得構成(44区分)別１世帯当たり年間収入額－全国\n",
    "0003426485\n",
    "世帯主の年齢階級(32区分)，有業人員(7区分)，高齢者世帯類型(21区分)，所得構成(44区分)別１世帯当たり年間収入額－全国\n",
    "0003426489\n",
    "世帯主の年齢階級(32区分)，世帯主の従業上の地位(11区分)，世帯主の配偶者の有無(30区分)，所得構成(44区分)別１世帯当たり年間収入額－全国\n",
    "0003426490\n",
    "世帯主の年齢階級(32区分)，未婚の子供の数(4区分)，世帯主の配偶者の有無(30区分)，所得構成(44区分)別１世帯当たり年間収入額－全国\n",
    "0003426495\n",
    "世帯主の年齢階級(32区分)，有業人員(7区分)，非就業者の有無(40区分)，所得構成(44区分)別１世帯当たり年間収入額－全国\n",
    "0003426496\n",
    "\n",
    "\n",
    "民間給与\n",
    "全国計表　第10表　事業所規模別及び年齢階層別の給与所得者数・給与額　（1年を通じて勤務した給与所得者）　（2014年～）\n",
    "0004009621\n",
    "全国計表　第11表　企業規模別及び年齢階層別の給与所得者数・給与額　（1年を通じて勤務した給与所得者）　（2014年～）\n",
    "0004009622\n",
    "全国計表　第12表　業種別及び年齢階層別の給与所得者数・給与額　（1年を通じて勤務した給与所得者）　（2014年～）\n",
    "0004009623\n",
    "全国計表　第12表　業種別及び年齢階層別の給与所得者数・給与額　（1年を通じて勤務した給与所得者（乙欄適用者を除く））（2014年～）\n",
    "0004009625\n",
    "\n",
    "賃金構造基本統計調査\n",
    "https://www.e-stat.go.jp/stat-search/database?page=1&layout=datalist&toukei=00450091&tstat=000001011429&cycle=0&tclass1val=0&metadata=1&data=1\n",
    "一般_産業大・中分類_年齢階級別DB\n",
    "0003425893\n",
    "一般_役職_年齢階級別DB\n",
    "0003426253\n",
    "一般_都道府県別_年齢階級別DB\n",
    "0003426933\n",
    "\n"
   ]
  },
  {
   "cell_type": "code",
   "execution_count": null,
   "id": "a001270a-4546-458e-afc8-678494e8a8dd",
   "metadata": {},
   "outputs": [],
   "source": [
    "import os\n",
    "import sys\n",
    "from pathlib import Path\n",
    "import requests\n",
    "import pandas as pd\n",
    "from dotenv import load_dotenv\n",
    "\n",
    "# 表示設定\n",
    "pd.set_option('display.max_columns', None)\n",
    "pd.set_option('display.width', None)\n",
    "pd.set_option('display.max_colwidth', 50)"
   ]
  },
  {
   "cell_type": "code",
   "execution_count": null,
   "id": "25b15b9a-0bbd-4111-85e6-8214b84ac346",
   "metadata": {},
   "outputs": [],
   "source": [
    "# パッケージのパスを追加（exampleフォルダから一つ上の階層のfpy_datareaderを参照）\n",
    "sys.path.append(os.path.dirname(os.getcwd()))"
   ]
  },
  {
   "cell_type": "code",
   "execution_count": null,
   "id": "a7279eec-3514-482c-a962-986cd9b8ce9c",
   "metadata": {},
   "outputs": [],
   "source": [
    "from jpy_datareader.estat import MetaInfoReader, StatsDataReader\n",
    "from fpy_datareader import income as future_income_estimater"
   ]
  },
  {
   "cell_type": "code",
   "execution_count": null,
   "id": "8c41055f-977b-43c2-91ea-110537260fbe",
   "metadata": {},
   "outputs": [],
   "source": [
    "# APIキーの読み込み\n",
    "load_dotenv()\n",
    "appId = os.getenv(\"ESTAT_APP_ID\")"
   ]
  },
  {
   "cell_type": "markdown",
   "id": "e84cab1f-0ea9-422e-9e48-9244ffd9908b",
   "metadata": {},
   "source": [
    "## 家計調査"
   ]
  },
  {
   "cell_type": "code",
   "execution_count": null,
   "id": "69523918-5b47-4ce9-a29a-6965dc16d15c",
   "metadata": {},
   "outputs": [],
   "source": [
    "kakei_setai_statsDataId = \"0002070011\"\n",
    "kakei_setai_metainfo = MetaInfoReader(\n",
    "    api_key=appId, \n",
    "    statsDataId=kakei_setai_statsDataId,\n",
    ")\n",
    "kakei_setai_meta = kakei_setai_metainfo.read_class_objs()\n",
    "kakei_setai_metainfo.OVERALL_TOTAL_NUMBER"
   ]
  },
  {
   "cell_type": "code",
   "execution_count": null,
   "id": "3e7c33c4-b764-4db8-96cd-dee5b2cf5288",
   "metadata": {},
   "outputs": [],
   "source": [
    "kakei_setai_meta[0]"
   ]
  },
  {
   "cell_type": "code",
   "execution_count": null,
   "id": "2d5a840b-aca3-4c31-a6fa-d0f13c8ddb82",
   "metadata": {},
   "outputs": [],
   "source": [
    "kakei_setai_meta[1]['meta_dataframe']"
   ]
  },
  {
   "cell_type": "code",
   "execution_count": null,
   "id": "2f6b338f-6061-4939-9126-20def15ee342",
   "metadata": {},
   "outputs": [],
   "source": [
    "kakei_setai_meta[2]['meta_dataframe']"
   ]
  },
  {
   "cell_type": "code",
   "execution_count": null,
   "id": "e3f9ec55-143e-45e9-993e-ce8d5adc2ad4",
   "metadata": {},
   "outputs": [],
   "source": [
    "kakei_setai_meta[3]"
   ]
  },
  {
   "cell_type": "code",
   "execution_count": null,
   "id": "9d924456-e755-410c-afec-2c8ee46c63aa",
   "metadata": {},
   "outputs": [],
   "source": [
    "kakei_setai_meta[4]"
   ]
  },
  {
   "cell_type": "code",
   "execution_count": null,
   "id": "ecf0affa-8421-4f01-bc5d-8b3b6dc70038",
   "metadata": {},
   "outputs": [],
   "source": [
    "kakei_setai_meta[5]"
   ]
  },
  {
   "cell_type": "code",
   "execution_count": null,
   "id": "d4c974c2-6ba3-4438-84db-8879c30c7333",
   "metadata": {},
   "outputs": [],
   "source": [
    "#  世帯主の年齢階級ごとの家計項目のデータを取得するための関数を用意\n",
    "def get_filtered_statsdata(\n",
    "        app_id: str, stats_id: str, cat01: str, value_name: str, yyyy = 2024\n",
    "    ) -> pd.DataFrame:\n",
    "    params = {\n",
    "        \"cdCat01\": cat01,\n",
    "        \"cdCat02\": \"04\",\n",
    "        \"cdTime\": f\"{yyyy}000000\",\n",
    "    }\n",
    "    data = StatsDataReader(\n",
    "        api_key=appId,\n",
    "        statsDataId=stats_id,\n",
    "        **params\n",
    "    )\n",
    "    value = data.read()\n",
    "    cols = [\"世帯主の年齢階級\", \"値\"]\n",
    "    df = value.loc[~value[\"世帯主の年齢階級\"].isin([\"平均\", \"65歳以上\"]), cols]\n",
    "    return df.rename(columns={\"値\": value_name})"
   ]
  },
  {
   "cell_type": "code",
   "execution_count": null,
   "id": "f66ad500-1268-4f30-a9a2-b3ab3b5a2fc1",
   "metadata": {},
   "outputs": [],
   "source": [
    "yyyy = 2024\n",
    "age_df = get_filtered_statsdata(appId, kakei_setai_statsDataId, \"009\", \"世帯主の年齢\", 2024)\n",
    "income_df = get_filtered_statsdata(appId, kakei_setai_statsDataId, \"233\", \"可処分所得\", 2024)"
   ]
  },
  {
   "cell_type": "code",
   "execution_count": null,
   "id": "b1d01d34-7ef5-48a4-813a-2e2b1f293330",
   "metadata": {},
   "outputs": [],
   "source": [
    "on = \"世帯主の年齢階級\"\n",
    "fie_df = age_df.merge(income_df, on=on)"
   ]
  },
  {
   "cell_type": "code",
   "execution_count": null,
   "id": "cb09f83a-4845-43f5-9495-5e0f66adc371",
   "metadata": {},
   "outputs": [],
   "source": [
    "fie_df[[\"世帯主の年齢\", \"可処分所得\"]]"
   ]
  },
  {
   "cell_type": "code",
   "execution_count": null,
   "id": "9818975d-cf1a-4be5-8e29-ba56a832afc7",
   "metadata": {},
   "outputs": [],
   "source": [
    "future_income_estimater.interpolate_age_income(\n",
    "    fie_df[[\"世帯主の年齢\", \"可処分所得\"]], \n",
    "    start_age=0, \n",
    "    end_age=80, \n",
    "    method='linear', \n",
    "    extrapolation='terminal', \n",
    "    terminal_start=0, \n",
    "    terminal_end=100,\n",
    "    include_growth_rate=True,\n",
    "    include_growth_ma=True,\n",
    "    growth_ma_periods=3\n",
    ").head(30)"
   ]
  },
  {
   "cell_type": "code",
   "execution_count": null,
   "id": "f74791af-6cc4-49cc-bf03-731116dc8a92",
   "metadata": {},
   "outputs": [],
   "source": []
  },
  {
   "cell_type": "code",
   "execution_count": null,
   "id": "0bf4b175-b8a5-4fb6-aadb-af526c30cc31",
   "metadata": {},
   "outputs": [],
   "source": [
    "kakei_tanshin_statsDataId = \"0002190004\"\n",
    "kakei_tanshin_metainfo = MetaInfoReader(\n",
    "    api_key=appId, \n",
    "    statsDataId=kakei_tanshin_statsDataId,\n",
    "    has_lv_hierarchy=True,  # 階層情報も取得\n",
    ")\n",
    "kakei_tanshin_meta = kakei_tanshin_metainfo.read_class_objs()\n",
    "kakei_tanshin_metainfo.OVERALL_TOTAL_NUMBER"
   ]
  },
  {
   "cell_type": "code",
   "execution_count": null,
   "id": "2e78d13b-5595-452c-995e-f97e40fc117a",
   "metadata": {},
   "outputs": [],
   "source": [
    "kakei_tanshin_statsdata = StatsDataReader(\n",
    "    api_key=appId, \n",
    "    statsDataId=kakei_tanshin_statsDataId, \n",
    ")\n",
    "kakei_tanshin_value = kakei_tanshin_statsdata.read()"
   ]
  },
  {
   "cell_type": "code",
   "execution_count": null,
   "id": "395b34b7-369c-4566-89d3-abc41d266255",
   "metadata": {},
   "outputs": [],
   "source": [
    "kakei_tanshin_value"
   ]
  },
  {
   "cell_type": "code",
   "execution_count": null,
   "id": "763839fd-8c02-4daa-b61d-e4848a8f21f3",
   "metadata": {},
   "outputs": [],
   "source": []
  },
  {
   "cell_type": "code",
   "execution_count": null,
   "id": "4aeb25d9-7795-4f28-b33e-65b0d830aa08",
   "metadata": {},
   "outputs": [],
   "source": []
  },
  {
   "cell_type": "code",
   "execution_count": null,
   "id": "9c804338-229c-4244-8f56-f1756a85ecf2",
   "metadata": {},
   "outputs": [],
   "source": []
  },
  {
   "cell_type": "code",
   "execution_count": null,
   "id": "9e4f6b53-619a-4aef-ab4e-4e5608337cb2",
   "metadata": {},
   "outputs": [],
   "source": []
  },
  {
   "cell_type": "code",
   "execution_count": null,
   "id": "3ab1c43e-0b17-4cf7-9459-42bc6a56d38c",
   "metadata": {},
   "outputs": [],
   "source": []
  },
  {
   "cell_type": "markdown",
   "id": "956ce4df-70dd-4626-b11c-1a02b7d5f7d8",
   "metadata": {},
   "source": [
    "## 全国家計構造調査"
   ]
  },
  {
   "cell_type": "code",
   "execution_count": null,
   "id": "86e0ea56-02f6-464a-a9d2-0a4ab3afa66d",
   "metadata": {},
   "outputs": [],
   "source": []
  },
  {
   "cell_type": "markdown",
   "id": "cfd9a6a9-fdc2-45c8-85aa-2b39b1258284",
   "metadata": {},
   "source": [
    "## 賃金構造基本調査"
   ]
  },
  {
   "cell_type": "code",
   "execution_count": null,
   "id": "38165c77-33f0-4086-80e1-68d3c39ad05c",
   "metadata": {},
   "outputs": [],
   "source": [
    "chingin_statsDataId = \"0003426933\"\n",
    "chingin_metainfo = MetaInfoReader(\n",
    "    api_key=appId, \n",
    "    statsDataId=chingin_statsDataId,\n",
    "    has_lv_hierarchy=True,  # 階層情報も取得\n",
    ")\n",
    "chingin_meta = chingin_metainfo.read_class_objs()\n",
    "chingin_metainfo.OVERALL_TOTAL_NUMBER"
   ]
  },
  {
   "cell_type": "code",
   "execution_count": null,
   "id": "4fc0a8a0-c704-4d6d-a8b0-735ec66698ca",
   "metadata": {},
   "outputs": [],
   "source": [
    "chingin_meta[0]"
   ]
  },
  {
   "cell_type": "code",
   "execution_count": null,
   "id": "0da8deaa-0331-426e-8b9e-20edc05e3a88",
   "metadata": {},
   "outputs": [],
   "source": [
    "chingin_meta[1]"
   ]
  },
  {
   "cell_type": "code",
   "execution_count": null,
   "id": "10ea5870-448b-483b-a0c1-594c17d4610a",
   "metadata": {},
   "outputs": [],
   "source": [
    "chingin_meta[2]"
   ]
  },
  {
   "cell_type": "code",
   "execution_count": null,
   "id": "b8023655-304f-477b-b9d3-0ea5db3cda50",
   "metadata": {},
   "outputs": [],
   "source": [
    "chingin_meta[3]"
   ]
  },
  {
   "cell_type": "code",
   "execution_count": null,
   "id": "2482dd53-2cf6-4825-9871-61ac6e0abedc",
   "metadata": {
    "scrolled": true
   },
   "outputs": [],
   "source": [
    "chingin_meta[4]"
   ]
  },
  {
   "cell_type": "code",
   "execution_count": null,
   "id": "2957655c-7d24-4e41-8625-4b108c6cf4eb",
   "metadata": {
    "scrolled": true
   },
   "outputs": [],
   "source": [
    "chingin_meta[5]"
   ]
  },
  {
   "cell_type": "markdown",
   "id": "7b144e54-1598-4d71-b262-6e38b82d3adb",
   "metadata": {},
   "source": [
    "## 国民生活基礎調査"
   ]
  },
  {
   "cell_type": "code",
   "execution_count": null,
   "id": "87cb08dc-7ade-4b3e-85c8-4b4e1d8d94d4",
   "metadata": {},
   "outputs": [],
   "source": [
    "# 国勢調査の統計表IDを使用（例）\n",
    "statsDataId = \"0004021242\"  # 国勢調査：男女別人口及び世帯の種類別世帯数\n",
    "\n",
    "print(f\"=== 統計表ID: {statsDataId} のメタ情報取得 ===\")\n",
    "\n",
    "# MetaInfoReaderインスタンスの作成\n",
    "metainfo = MetaInfoReader(\n",
    "    api_key=appId, \n",
    "    statsDataId=statsDataId,\n",
    "    has_lv_hierarchy=True,  # 階層情報も取得\n",
    ")"
   ]
  },
  {
   "cell_type": "code",
   "execution_count": null,
   "id": "a01524a5-5913-445b-bf2d-fc2690dcf612",
   "metadata": {},
   "outputs": [],
   "source": [
    "meta = metainfo.read_class_objs()"
   ]
  },
  {
   "cell_type": "code",
   "execution_count": null,
   "id": "8209acaf-8774-44ad-8e13-66ec51204054",
   "metadata": {},
   "outputs": [],
   "source": [
    "meta[0]"
   ]
  },
  {
   "cell_type": "code",
   "execution_count": null,
   "id": "074002ba-89f8-42c4-9872-2d08598f9eb4",
   "metadata": {},
   "outputs": [],
   "source": [
    "meta[1]['meta_dataframe']"
   ]
  },
  {
   "cell_type": "code",
   "execution_count": null,
   "id": "125d1b2d-6e27-462d-8c70-867d52f72ca2",
   "metadata": {},
   "outputs": [],
   "source": [
    "meta[2]"
   ]
  },
  {
   "cell_type": "code",
   "execution_count": null,
   "id": "fdafad9a-84bd-4f3e-9162-ac4c9c2ff109",
   "metadata": {},
   "outputs": [],
   "source": [
    "meta[3]"
   ]
  },
  {
   "cell_type": "code",
   "execution_count": null,
   "id": "95d55f63-a4f4-4795-ba05-445039fc75ab",
   "metadata": {},
   "outputs": [],
   "source": [
    "meta[4]"
   ]
  },
  {
   "cell_type": "code",
   "execution_count": null,
   "id": "dc649c37-0750-40b9-bd16-20860348d964",
   "metadata": {},
   "outputs": [],
   "source": []
  }
 ],
 "metadata": {
  "kernelspec": {
   "display_name": "Python 3 (ipykernel)",
   "language": "python",
   "name": "python3"
  },
  "language_info": {
   "codemirror_mode": {
    "name": "ipython",
    "version": 3
   },
   "file_extension": ".py",
   "mimetype": "text/x-python",
   "name": "python",
   "nbconvert_exporter": "python",
   "pygments_lexer": "ipython3",
   "version": "3.12.10"
  }
 },
 "nbformat": 4,
 "nbformat_minor": 5
}
